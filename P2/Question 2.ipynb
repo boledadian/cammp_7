{
 "cells": [
  {
   "cell_type": "code",
<<<<<<< HEAD
   "execution_count": 1,
=======
   "execution_count": 5,
>>>>>>> andrei
   "metadata": {},
   "outputs": [
    {
     "name": "stderr",
     "output_type": "stream",
     "text": [
      "Using TensorFlow backend.\n"
     ]
    }
   ],
   "source": [
    "import numpy as np\n",
    "import pandas as pd\n",
    "import matplotlib.pyplot as plt\n",
    "import tensorflow as tf\n",
    "import keras as ks\n",
    "from sklearn.preprocessing import MinMaxScaler\n",
    "from sklearn.preprocessing import StandardScaler\n",
    "from sklearn.metrics import accuracy_score\n",
    "from sklearn.metrics import mean_squared_error\n",
    "from sklearn.metrics import mean_absolute_error\n",
    "from sklearn.gaussian_process import GaussianProcessRegressor as gpr \n",
    "from sklearn.gaussian_process.kernels import ConstantKernel,DotProduct, RBF, RationalQuadratic, ExpSineSquared, Matern, Exponentiation"
   ]
  },
  {
   "cell_type": "code",
<<<<<<< HEAD
   "execution_count": 2,
=======
   "execution_count": 6,
>>>>>>> andrei
   "metadata": {},
   "outputs": [],
   "source": [
    "df = pd.read_excel('./Gibbs energy inference.xlsx')\n",
    "df_Fe_C = pd.read_excel('./Fe-C system.xlsx')\n",
    "df_Fe_Cr = pd.read_excel('./Fe-Cr system.xlsx')\n",
    "df_Fe_C_Cr = pd.read_excel('./Fe-C-Cr system.xlsx')"
   ]
  },
  {
   "cell_type": "code",
<<<<<<< HEAD
   "execution_count": 3,
=======
   "execution_count": 7,
>>>>>>> andrei
   "metadata": {},
   "outputs": [],
   "source": [
    "df_Fe_C_1=df_Fe_C.reindex(columns=['Wt-% Cr','Wt-% C', 'T/K', 'Gibbs_energy/J/mol'], fill_value=0)"
   ]
  },
  {
   "cell_type": "code",
<<<<<<< HEAD
   "execution_count": 4,
=======
   "execution_count": 8,
>>>>>>> andrei
   "metadata": {},
   "outputs": [],
   "source": [
    "df_Fe_Cr_1=df_Fe_Cr.reindex(columns=['Wt-% Cr','Wt-% C', 'T/K', 'Gibbs_energy/J/mol'], fill_value=0)"
   ]
  },
  {
   "cell_type": "code",
<<<<<<< HEAD
   "execution_count": 5,
=======
   "execution_count": 9,
>>>>>>> andrei
   "metadata": {},
   "outputs": [],
   "source": [
    "df=pd.concat([df_Fe_C_1,df_Fe_Cr_1,df_Fe_C_Cr]).reset_index(drop=True)"
   ]
  },
  {
   "cell_type": "code",
<<<<<<< HEAD
   "execution_count": 6,
=======
   "execution_count": 10,
>>>>>>> andrei
   "metadata": {},
   "outputs": [],
   "source": [
    "X=df[['Wt-% Cr','Wt-% C', 'T/K']]\n",
    "y=df['Gibbs_energy/J/mol']"
   ]
  },
  {
   "cell_type": "code",
<<<<<<< HEAD
   "execution_count": 7,
=======
   "execution_count": 11,
>>>>>>> andrei
   "metadata": {},
   "outputs": [],
   "source": [
    "scaler = MinMaxScaler(feature_range=(0, 1))\n",
    "#scaler = StandardScaler()\n",
    "X = pd.DataFrame(scaler.fit_transform(X))"
   ]
  },
  {
   "cell_type": "code",
<<<<<<< HEAD
   "execution_count": 8,
=======
   "execution_count": 12,
>>>>>>> andrei
   "metadata": {},
   "outputs": [],
   "source": [
    "X_train = X.loc[:95].rename(columns={0:'Wt-% Cr',1:'Wt-% C',2:'T/K'})\n",
    "y_train = y.loc[:95].rename(columns={0:'Gibbs_energy/J/mol'})\n",
    "X_test = X.loc[96:].rename(columns={0:'Wt-% Cr',1:'Wt-% C',2:'T/K'})\n",
    "y_test = y.loc[96:].rename(columns={0:'Gibbs_energy/J/mol'})"
   ]
  },
  {
   "cell_type": "code",
<<<<<<< HEAD
   "execution_count": 9,
=======
   "execution_count": 13,
>>>>>>> andrei
   "metadata": {},
   "outputs": [
    {
     "data": {
      "text/html": [
       "<div>\n",
       "<style scoped>\n",
       "    .dataframe tbody tr th:only-of-type {\n",
       "        vertical-align: middle;\n",
       "    }\n",
       "\n",
       "    .dataframe tbody tr th {\n",
       "        vertical-align: top;\n",
       "    }\n",
       "\n",
       "    .dataframe thead th {\n",
       "        text-align: right;\n",
       "    }\n",
       "</style>\n",
       "<table border=\"1\" class=\"dataframe\">\n",
       "  <thead>\n",
       "    <tr style=\"text-align: right;\">\n",
       "      <th></th>\n",
       "      <th>Wt-% Cr</th>\n",
       "      <th>Wt-% C</th>\n",
       "      <th>T/K</th>\n",
       "      <th>Gibbs_energy/J/mol</th>\n",
       "    </tr>\n",
       "  </thead>\n",
       "  <tbody>\n",
       "    <tr>\n",
       "      <th>count</th>\n",
       "      <td>16.000000</td>\n",
       "      <td>16.000000</td>\n",
       "      <td>16.000000</td>\n",
       "      <td>16.00000</td>\n",
       "    </tr>\n",
       "    <tr>\n",
       "      <th>mean</th>\n",
       "      <td>0.174063</td>\n",
       "      <td>0.022538</td>\n",
       "      <td>1358.375000</td>\n",
       "      <td>-69875.98125</td>\n",
       "    </tr>\n",
       "    <tr>\n",
       "      <th>std</th>\n",
       "      <td>0.127531</td>\n",
       "      <td>0.025835</td>\n",
       "      <td>118.718083</td>\n",
       "      <td>9320.01549</td>\n",
       "    </tr>\n",
       "    <tr>\n",
       "      <th>min</th>\n",
       "      <td>0.020000</td>\n",
       "      <td>0.001000</td>\n",
       "      <td>1100.000000</td>\n",
       "      <td>-82362.00000</td>\n",
       "    </tr>\n",
       "    <tr>\n",
       "      <th>25%</th>\n",
       "      <td>0.087500</td>\n",
       "      <td>0.005900</td>\n",
       "      <td>1273.000000</td>\n",
       "      <td>-76828.85000</td>\n",
       "    </tr>\n",
       "    <tr>\n",
       "      <th>50%</th>\n",
       "      <td>0.150000</td>\n",
       "      <td>0.015500</td>\n",
       "      <td>1373.000000</td>\n",
       "      <td>-70681.55000</td>\n",
       "    </tr>\n",
       "    <tr>\n",
       "      <th>75%</th>\n",
       "      <td>0.261250</td>\n",
       "      <td>0.024000</td>\n",
       "      <td>1473.000000</td>\n",
       "      <td>-63702.37500</td>\n",
       "    </tr>\n",
       "    <tr>\n",
       "      <th>max</th>\n",
       "      <td>0.500000</td>\n",
       "      <td>0.100000</td>\n",
       "      <td>1500.000000</td>\n",
       "      <td>-50434.60000</td>\n",
       "    </tr>\n",
       "  </tbody>\n",
       "</table>\n",
       "</div>"
      ],
      "text/plain": [
<<<<<<< HEAD
       "         Wt-% Cr     Wt-% C          T/K  Gibbs_energy/J/mol\n",
       "count  16.000000  16.000000    16.000000            16.00000\n",
       "mean    0.174063   0.022538  1358.375000        -69875.98125\n",
       "std     0.127531   0.025835   118.718083          9320.01549\n",
       "min     0.020000   0.001000  1100.000000        -82362.00000\n",
       "25%     0.087500   0.005900  1273.000000        -76828.85000\n",
       "50%     0.150000   0.015500  1373.000000        -70681.55000\n",
       "75%     0.261250   0.024000  1473.000000        -63702.37500\n",
       "max     0.500000   0.100000  1500.000000        -50434.60000"
      ]
     },
     "execution_count": 9,
=======
       "<matplotlib.axes._subplots.AxesSubplot at 0x14843f2f6a0>"
      ]
     },
     "execution_count": 13,
>>>>>>> andrei
     "metadata": {},
     "output_type": "execute_result"
    }
   ],
   "source": [
    "df_Fe_C_Cr.describe()"
   ]
  },
  {
   "cell_type": "code",
   "execution_count": 10,
   "metadata": {},
   "outputs": [
    {
     "data": {
<<<<<<< HEAD
=======
      "image/png": "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\n",
>>>>>>> andrei
      "text/plain": [
       "count       16.00000\n",
       "mean    -69875.98125\n",
       "std       9320.01549\n",
       "min     -82362.00000\n",
       "25%     -76828.85000\n",
       "50%     -70681.55000\n",
       "75%     -63702.37500\n",
       "max     -50434.60000\n",
       "dtype: float64"
      ]
     },
     "execution_count": 10,
     "metadata": {},
     "output_type": "execute_result"
    }
   ],
   "source": [
    "y_test.describe()"
   ]
  },
  {
   "cell_type": "code",
<<<<<<< HEAD
   "execution_count": null,
   "metadata": {},
   "outputs": [],
   "source": []
  },
  {
   "cell_type": "code",
   "execution_count": null,
   "metadata": {},
   "outputs": [],
   "source": []
  },
  {
   "cell_type": "code",
   "execution_count": null,
   "metadata": {},
   "outputs": [],
   "source": []
  },
  {
   "cell_type": "code",
   "execution_count": 11,
=======
   "execution_count": 14,
>>>>>>> andrei
   "metadata": {},
   "outputs": [
    {
     "data": {
      "text/plain": [
       "GaussianProcessRegressor(alpha=0.0001, copy_X_train=True, kernel=None,\n",
       "                         n_restarts_optimizer=5, normalize_y='True',\n",
       "                         optimizer='fmin_l_bfgs_b', random_state=42)"
      ]
     },
<<<<<<< HEAD
     "execution_count": 11,
=======
     "execution_count": 14,
>>>>>>> andrei
     "metadata": {},
     "output_type": "execute_result"
    }
   ],
   "source": [
    "Gaussian= gpr(alpha = 0.0001,n_restarts_optimizer=5,normalize_y=\"True\",optimizer='fmin_l_bfgs_b',random_state=42)\n",
    "#kernel=k,alpha = 0.0001,n_restarts_optimizer=5,normalize_y=\"True\",optimizer='fmin_l_bfgs_b',random_state=42)\n",
    "Gaussian.fit(X_train,y_train)"
   ]
  },
  {
   "cell_type": "code",
<<<<<<< HEAD
   "execution_count": 12,
=======
   "execution_count": 15,
>>>>>>> andrei
   "metadata": {},
   "outputs": [],
   "source": [
    "#y_prediction=Gaussian.predict(Test[['Wt-% Cr','Wt-% C', 'T/K']])"
   ]
  },
  {
   "cell_type": "code",
<<<<<<< HEAD
   "execution_count": 13,
   "metadata": {},
   "outputs": [],
   "source": [
    "#y_prediction"
   ]
  },
  {
   "cell_type": "code",
   "execution_count": 14,
   "metadata": {},
   "outputs": [],
   "source": [
    "#np.array(Test['Gibbs_energy/J/mol'])"
   ]
  },
  {
   "cell_type": "code",
   "execution_count": 15,
   "metadata": {},
   "outputs": [],
   "source": [
    "def Mean_absolute_percentage_error(ture_value, prediction_value):\n",
    "    return np.mean(np.abs((prediction_value- ture_value)/ture_value))*100"
   ]
  },
  {
   "cell_type": "code",
   "execution_count": 16,
   "metadata": {},
   "outputs": [],
   "source": [
    "#Mean_absolute_percentage_error(Test['Gibbs_energy/J/mol'].values,y_prediction)"
   ]
  },
  {
   "cell_type": "code",
   "execution_count": 17,
   "metadata": {},
   "outputs": [],
   "source": [
    "#Gaussian.score(Test[['Wt-% Cr','Wt-% C', 'T/K']],Test['Gibbs_energy/J/mol'])"
   ]
  },
  {
   "cell_type": "code",
   "execution_count": 18,
   "metadata": {},
   "outputs": [],
   "source": [
    "from pandas.core.frame import DataFrame\n",
    "from sklearn.ensemble import RandomForestRegressor, ExtraTreesRegressor, GradientBoostingRegressor\n",
    "from sklearn import linear_model\n",
    "from sklearn.ensemble import BaggingRegressor\n",
    "from sklearn.neural_network import MLPRegressor\n",
    "from sklearn.dummy import DummyRegressor\n",
    "from sklearn.tree import DecisionTreeRegressor\n",
    "from sklearn.neighbors import KNeighborsRegressor\n",
    "from sklearn.linear_model import LinearRegression, LassoCV, RidgeCV, ElasticNetCV\n",
    "from sklearn.linear_model import SGDRegressor\n",
    "from sklearn.svm import SVR\n",
    "from sklearn.kernel_ridge import KernelRidge\n",
    "import xgboost as xgb\n",
    "import lightgbm as lgb\n",
    "\n",
    "from sklearn.naive_bayes import MultinomialNB"
   ]
  },
  {
   "cell_type": "code",
   "execution_count": null,
   "metadata": {},
   "outputs": [],
   "source": []
  },
  {
   "cell_type": "code",
   "execution_count": 19,
=======
   "execution_count": 16,
>>>>>>> andrei
   "metadata": {},
   "outputs": [
    {
     "name": "stderr",
     "output_type": "stream",
     "text": [
      "/home/pascal/.local/lib/python3.6/site-packages/sklearn/ensemble/forest.py:245: FutureWarning: The default value of n_estimators will change from 10 in version 0.20 to 100 in 0.22.\n",
      "  \"10 in version 0.20 to 100 in 0.22.\", FutureWarning)\n",
      "/home/pascal/.local/lib/python3.6/site-packages/sklearn/neural_network/multilayer_perceptron.py:566: ConvergenceWarning: Stochastic Optimizer: Maximum iterations (10000) reached and the optimization hasn't converged yet.\n",
      "  % self.max_iter, ConvergenceWarning)\n",
      "/home/pascal/.local/lib/python3.6/site-packages/sklearn/svm/base.py:193: FutureWarning: The default value of gamma will change from 'auto' to 'scale' in version 0.22 to account better for unscaled features. Set gamma explicitly to 'auto' or 'scale' to avoid this warning.\n",
      "  \"avoid this warning.\", FutureWarning)\n",
      "/home/pascal/.local/lib/python3.6/site-packages/sklearn/gaussian_process/gpr.py:469: ConvergenceWarning: fmin_l_bfgs_b terminated abnormally with the  state: {'grad': array([1.75921860e+13, 5.27765581e+13]), 'task': b'ABNORMAL_TERMINATION_IN_LNSRCH', 'funcalls': 43, 'nit': 1, 'warnflag': 2}\n",
      "  ConvergenceWarning)\n"
     ]
    },
    {
     "data": {
      "text/html": [
       "<div>\n",
       "<style scoped>\n",
       "    .dataframe tbody tr th:only-of-type {\n",
       "        vertical-align: middle;\n",
       "    }\n",
       "\n",
       "    .dataframe tbody tr th {\n",
       "        vertical-align: top;\n",
       "    }\n",
       "\n",
       "    .dataframe thead th {\n",
       "        text-align: right;\n",
       "    }\n",
       "</style>\n",
       "<table border=\"1\" class=\"dataframe\">\n",
       "  <thead>\n",
       "    <tr style=\"text-align: right;\">\n",
       "      <th></th>\n",
       "      <th>Gibbs_energy/J/mol</th>\n",
       "    </tr>\n",
       "  </thead>\n",
       "  <tbody>\n",
       "    <tr>\n",
       "      <th>RandomForest R2</th>\n",
       "      <td>9.299176e-01</td>\n",
       "    </tr>\n",
       "    <tr>\n",
       "      <th>RandomForest MAPE</th>\n",
       "      <td>2.899882e+00</td>\n",
       "    </tr>\n",
       "    <tr>\n",
       "      <th>RandomForest MSE</th>\n",
       "      <td>5.707074e+06</td>\n",
       "    </tr>\n",
       "    <tr>\n",
       "      <th>RandomForest  MAE</th>\n",
       "      <td>1.929148e+03</td>\n",
       "    </tr>\n",
       "    <tr>\n",
       "      <th>MultipleLayerPerceptron R2</th>\n",
       "      <td>-1.825505e+01</td>\n",
       "    </tr>\n",
       "    <tr>\n",
       "      <th>MultipleLayerPerceptron MAPE</th>\n",
       "      <td>5.469881e+01</td>\n",
       "    </tr>\n",
       "    <tr>\n",
       "      <th>MultipleLayerPerceptron MSE</th>\n",
       "      <td>1.568012e+09</td>\n",
       "    </tr>\n",
       "    <tr>\n",
       "      <th>MultipleLayerPerceptron  MAE</th>\n",
       "      <td>3.839438e+04</td>\n",
       "    </tr>\n",
       "    <tr>\n",
       "      <th>DecisionTree R2</th>\n",
       "      <td>8.755285e-01</td>\n",
       "    </tr>\n",
       "    <tr>\n",
       "      <th>DecisionTree MAPE</th>\n",
       "      <td>3.957428e+00</td>\n",
       "    </tr>\n",
       "    <tr>\n",
       "      <th>DecisionTree MSE</th>\n",
       "      <td>1.013619e+07</td>\n",
       "    </tr>\n",
       "    <tr>\n",
       "      <th>DecisionTree  MAE</th>\n",
       "      <td>2.734531e+03</td>\n",
       "    </tr>\n",
       "    <tr>\n",
       "      <th>KNeighbor(Arithmetic mean) R2</th>\n",
       "      <td>9.009141e-01</td>\n",
       "    </tr>\n",
       "    <tr>\n",
       "      <th>KNeighbor(Arithmetic mean) MAPE</th>\n",
       "      <td>3.345279e+00</td>\n",
       "    </tr>\n",
       "    <tr>\n",
       "      <th>KNeighbor(Arithmetic mean) MSE</th>\n",
       "      <td>8.068942e+06</td>\n",
       "    </tr>\n",
       "    <tr>\n",
       "      <th>KNeighbor(Arithmetic mean)  MAE</th>\n",
       "      <td>2.344259e+03</td>\n",
       "    </tr>\n",
       "    <tr>\n",
       "      <th>KNeighbor(weighed mean) R2</th>\n",
       "      <td>9.065608e-01</td>\n",
       "    </tr>\n",
       "    <tr>\n",
       "      <th>KNeighbor(weighed mean) MAPE</th>\n",
       "      <td>3.142914e+00</td>\n",
       "    </tr>\n",
       "    <tr>\n",
       "      <th>KNeighbor(weighed mean) MSE</th>\n",
       "      <td>7.609105e+06</td>\n",
       "    </tr>\n",
       "    <tr>\n",
       "      <th>KNeighbor(weighed mean)  MAE</th>\n",
       "      <td>2.218399e+03</td>\n",
       "    </tr>\n",
       "    <tr>\n",
       "      <th>Linear R2</th>\n",
       "      <td>9.194479e-01</td>\n",
       "    </tr>\n",
       "    <tr>\n",
       "      <th>Linear MAPE</th>\n",
       "      <td>2.782933e+00</td>\n",
       "    </tr>\n",
       "    <tr>\n",
       "      <th>Linear MSE</th>\n",
       "      <td>6.559658e+06</td>\n",
       "    </tr>\n",
       "    <tr>\n",
       "      <th>Linear  MAE</th>\n",
       "      <td>1.901398e+03</td>\n",
       "    </tr>\n",
       "    <tr>\n",
       "      <th>rbf_SVR R2</th>\n",
       "      <td>-1.235904e-01</td>\n",
       "    </tr>\n",
       "    <tr>\n",
       "      <th>rbf_SVR MAPE</th>\n",
       "      <td>1.173781e+01</td>\n",
       "    </tr>\n",
       "    <tr>\n",
       "      <th>rbf_SVR MSE</th>\n",
       "      <td>9.149820e+07</td>\n",
       "    </tr>\n",
       "    <tr>\n",
       "      <th>rbf_SVR  MAE</th>\n",
       "      <td>8.186211e+03</td>\n",
       "    </tr>\n",
       "    <tr>\n",
       "      <th>linear_SVR R2</th>\n",
       "      <td>-1.233585e-01</td>\n",
       "    </tr>\n",
       "    <tr>\n",
       "      <th>linear_SVR MAPE</th>\n",
       "      <td>1.173656e+01</td>\n",
       "    </tr>\n",
       "    <tr>\n",
       "      <th>linear_SVR MSE</th>\n",
       "      <td>9.147932e+07</td>\n",
       "    </tr>\n",
       "    <tr>\n",
       "      <th>linear_SVR  MAE</th>\n",
       "      <td>8.185316e+03</td>\n",
       "    </tr>\n",
       "    <tr>\n",
       "      <th>RidgeCV R2</th>\n",
       "      <td>9.858625e-01</td>\n",
       "    </tr>\n",
       "    <tr>\n",
       "      <th>RidgeCV MAPE</th>\n",
       "      <td>1.354966e+00</td>\n",
       "    </tr>\n",
       "    <tr>\n",
       "      <th>RidgeCV MSE</th>\n",
       "      <td>1.151268e+06</td>\n",
       "    </tr>\n",
       "    <tr>\n",
       "      <th>RidgeCV  MAE</th>\n",
       "      <td>9.359705e+02</td>\n",
       "    </tr>\n",
       "    <tr>\n",
       "      <th>KernelRidge R2</th>\n",
       "      <td>9.803829e-01</td>\n",
       "    </tr>\n",
       "    <tr>\n",
       "      <th>KernelRidge MAPE</th>\n",
       "      <td>1.250699e+00</td>\n",
       "    </tr>\n",
       "    <tr>\n",
       "      <th>KernelRidge MSE</th>\n",
       "      <td>1.597496e+06</td>\n",
       "    </tr>\n",
       "    <tr>\n",
       "      <th>KernelRidge  MAE</th>\n",
       "      <td>9.062651e+02</td>\n",
       "    </tr>\n",
       "    <tr>\n",
       "      <th>Gaussian_DotProduct R2</th>\n",
       "      <td>9.205907e-01</td>\n",
       "    </tr>\n",
       "    <tr>\n",
       "      <th>Gaussian_DotProduct MAPE</th>\n",
       "      <td>2.585844e+00</td>\n",
       "    </tr>\n",
       "    <tr>\n",
       "      <th>Gaussian_DotProduct MSE</th>\n",
       "      <td>6.466598e+06</td>\n",
       "    </tr>\n",
       "    <tr>\n",
       "      <th>Gaussian_DotProduct  MAE</th>\n",
       "      <td>1.770814e+03</td>\n",
       "    </tr>\n",
       "  </tbody>\n",
       "</table>\n",
       "</div>"
      ],
      "text/plain": [
       "                                 Gibbs_energy/J/mol\n",
       "RandomForest R2                        9.299176e-01\n",
       "RandomForest MAPE                      2.899882e+00\n",
       "RandomForest MSE                       5.707074e+06\n",
       "RandomForest  MAE                      1.929148e+03\n",
       "MultipleLayerPerceptron R2            -1.825505e+01\n",
       "MultipleLayerPerceptron MAPE           5.469881e+01\n",
       "MultipleLayerPerceptron MSE            1.568012e+09\n",
       "MultipleLayerPerceptron  MAE           3.839438e+04\n",
       "DecisionTree R2                        8.755285e-01\n",
       "DecisionTree MAPE                      3.957428e+00\n",
       "DecisionTree MSE                       1.013619e+07\n",
       "DecisionTree  MAE                      2.734531e+03\n",
       "KNeighbor(Arithmetic mean) R2          9.009141e-01\n",
       "KNeighbor(Arithmetic mean) MAPE        3.345279e+00\n",
       "KNeighbor(Arithmetic mean) MSE         8.068942e+06\n",
       "KNeighbor(Arithmetic mean)  MAE        2.344259e+03\n",
       "KNeighbor(weighed mean) R2             9.065608e-01\n",
       "KNeighbor(weighed mean) MAPE           3.142914e+00\n",
       "KNeighbor(weighed mean) MSE            7.609105e+06\n",
       "KNeighbor(weighed mean)  MAE           2.218399e+03\n",
       "Linear R2                              9.194479e-01\n",
       "Linear MAPE                            2.782933e+00\n",
       "Linear MSE                             6.559658e+06\n",
       "Linear  MAE                            1.901398e+03\n",
       "rbf_SVR R2                            -1.235904e-01\n",
       "rbf_SVR MAPE                           1.173781e+01\n",
       "rbf_SVR MSE                            9.149820e+07\n",
       "rbf_SVR  MAE                           8.186211e+03\n",
       "linear_SVR R2                         -1.233585e-01\n",
       "linear_SVR MAPE                        1.173656e+01\n",
       "linear_SVR MSE                         9.147932e+07\n",
       "linear_SVR  MAE                        8.185316e+03\n",
       "RidgeCV R2                             9.858625e-01\n",
       "RidgeCV MAPE                           1.354966e+00\n",
       "RidgeCV MSE                            1.151268e+06\n",
       "RidgeCV  MAE                           9.359705e+02\n",
       "KernelRidge R2                         9.803829e-01\n",
       "KernelRidge MAPE                       1.250699e+00\n",
       "KernelRidge MSE                        1.597496e+06\n",
       "KernelRidge  MAE                       9.062651e+02\n",
       "Gaussian_DotProduct R2                 9.205907e-01\n",
       "Gaussian_DotProduct MAPE               2.585844e+00\n",
       "Gaussian_DotProduct MSE                6.466598e+06\n",
       "Gaussian_DotProduct  MAE               1.770814e+03"
      ]
     },
<<<<<<< HEAD
     "execution_count": 19,
=======
     "execution_count": 16,
>>>>>>> andrei
     "metadata": {},
     "output_type": "execute_result"
    }
   ],
   "source": [
    "string= ['RandomForest','MultipleLayerPerceptron',\n",
    "        'DecisionTree','KNeighbor(Arithmetic mean)','KNeighbor(weighed mean)','Linear','rbf_SVR',\n",
    "         'linear_SVR','RidgeCV','KernelRidge',\n",
    "         'Gaussian_DotProduct']\n",
    "data_total=pd.DataFrame()\n",
    "data_R2=pd.DataFrame()\n",
    "data_MAPE=pd.DataFrame()\n",
    "data_MSE=pd.DataFrame()\n",
    "model_list = [RandomForestRegressor(),\n",
    "             MLPRegressor(activation='identity', solver='adam', alpha=0.0001, max_iter=10000),\n",
    "             DecisionTreeRegressor(),\n",
    "             KNeighborsRegressor(weights='uniform'),KNeighborsRegressor(weights='distance'), \n",
    "             LinearRegression(),SVR(kernel='rbf',C=1),SVR(kernel='linear'),\n",
    "             RidgeCV(),\n",
    "             KernelRidge(alpha=0.6, kernel='polynomial', degree=2, coef0=2.5),\n",
    "             gpr(kernel=1**2 * DotProduct(sigma_0=1),n_restarts_optimizer=5,\n",
    "                      normalize_y=\"True\",optimizer='fmin_l_bfgs_b',random_state=0)]\n",
    "for index, model in enumerate (model_list):\n",
    "    R2=[]\n",
    "    MAPE=[]\n",
    "    MSE=[]\n",
    "    MAE=[]\n",
    "    model.fit(X_train, y_train)\n",
    "    y_predict = model.predict(X_test)\n",
    "    R2.append(model.score(X_test, y_test))\n",
    "    MAPE.append(Mean_absolute_percentage_error(y_test, y_predict))\n",
    "    MSE.append(mean_squared_error(y_test, y_predict))\n",
    "    MAE.append(mean_absolute_error(y_test, y_predict))\n",
    "    a=np.vstack((np.array(R2),np.array(MAPE),np.array(MSE),np.array(MAE)))#所有的array并列起来\n",
    "    data1 = pd.DataFrame(a, index=['%s R2'% string[index],'%s MAPE'% string[index], '%s MSE' %string[index],\n",
    "                                   '%s  MAE'% string[index]], \n",
    "                         columns=['Gibbs_energy/J/mol'])  \n",
    "    data2 = pd.DataFrame(np.matrix(R2), index=['%s R2'% string[index]],\n",
    "                                   columns=['Gibbs_energy/J/mol']) \n",
    "    data3= pd.DataFrame(np.matrix(MAPE), index=['%s MAPE'% string[index]],\n",
    "                                   columns=['Error in %'])\n",
    "    data4= pd.DataFrame(np.matrix(MSE), index=['%s MSE'% string[index]],\n",
    "                                   columns=['Gibbs_energy/J/mol'])\n",
    "    data_total=pd.concat([data_total,data1])#生成纵轴上的并集，索引会自动生成新的一\n",
    "    data_R2=pd.concat([data_R2,data2])\n",
    "    data_MAPE=pd.concat([data_MAPE,data3])\n",
    "    data_MSE=pd.concat([data_MSE,data4])\n",
    "\n",
    "pd.set_option('display.max_columns', None)#显示pandas完整数据\n",
    "pd.set_option('display.max_rows', None)\n",
    "data_total"
   ]
  },
  {
   "cell_type": "code",
   "execution_count": null,
   "metadata": {},
   "outputs": [],
   "source": []
  },
  {
   "cell_type": "code",
   "execution_count": 20,
   "metadata": {},
   "outputs": [
    {
     "data": {
      "text/html": [
       "<div>\n",
       "<style scoped>\n",
       "    .dataframe tbody tr th:only-of-type {\n",
       "        vertical-align: middle;\n",
       "    }\n",
       "\n",
       "    .dataframe tbody tr th {\n",
       "        vertical-align: top;\n",
       "    }\n",
       "\n",
       "    .dataframe thead th {\n",
       "        text-align: right;\n",
       "    }\n",
       "</style>\n",
       "<table border=\"1\" class=\"dataframe\">\n",
       "  <thead>\n",
       "    <tr style=\"text-align: right;\">\n",
       "      <th></th>\n",
       "      <th>Gibbs_energy/J/mol</th>\n",
       "    </tr>\n",
       "  </thead>\n",
       "  <tbody>\n",
       "    <tr>\n",
       "      <th>RandomForest R2</th>\n",
       "      <td>0.929918</td>\n",
       "    </tr>\n",
       "    <tr>\n",
       "      <th>MultipleLayerPerceptron R2</th>\n",
       "      <td>-18.255053</td>\n",
       "    </tr>\n",
       "    <tr>\n",
       "      <th>DecisionTree R2</th>\n",
       "      <td>0.875528</td>\n",
       "    </tr>\n",
       "    <tr>\n",
       "      <th>KNeighbor(Arithmetic mean) R2</th>\n",
       "      <td>0.900914</td>\n",
       "    </tr>\n",
       "    <tr>\n",
       "      <th>KNeighbor(weighed mean) R2</th>\n",
       "      <td>0.906561</td>\n",
       "    </tr>\n",
       "    <tr>\n",
       "      <th>Linear R2</th>\n",
       "      <td>0.919448</td>\n",
       "    </tr>\n",
       "    <tr>\n",
       "      <th>rbf_SVR R2</th>\n",
       "      <td>-0.123590</td>\n",
       "    </tr>\n",
       "    <tr>\n",
       "      <th>linear_SVR R2</th>\n",
       "      <td>-0.123358</td>\n",
       "    </tr>\n",
       "    <tr>\n",
       "      <th>RidgeCV R2</th>\n",
       "      <td>0.985863</td>\n",
       "    </tr>\n",
       "    <tr>\n",
       "      <th>KernelRidge R2</th>\n",
       "      <td>0.980383</td>\n",
       "    </tr>\n",
       "    <tr>\n",
       "      <th>Gaussian_DotProduct R2</th>\n",
       "      <td>0.920591</td>\n",
       "    </tr>\n",
       "  </tbody>\n",
       "</table>\n",
       "</div>"
      ],
      "text/plain": [
       "                               Gibbs_energy/J/mol\n",
       "RandomForest R2                          0.929918\n",
       "MultipleLayerPerceptron R2             -18.255053\n",
       "DecisionTree R2                          0.875528\n",
       "KNeighbor(Arithmetic mean) R2            0.900914\n",
       "KNeighbor(weighed mean) R2               0.906561\n",
       "Linear R2                                0.919448\n",
       "rbf_SVR R2                              -0.123590\n",
       "linear_SVR R2                           -0.123358\n",
       "RidgeCV R2                               0.985863\n",
       "KernelRidge R2                           0.980383\n",
       "Gaussian_DotProduct R2                   0.920591"
      ]
     },
     "execution_count": 20,
     "metadata": {},
     "output_type": "execute_result"
    }
   ],
   "source": [
    "data_R2"
   ]
  },
  {
   "cell_type": "code",
   "execution_count": 21,
   "metadata": {},
   "outputs": [
    {
     "data": {
      "text/html": [
       "<div>\n",
       "<style scoped>\n",
       "    .dataframe tbody tr th:only-of-type {\n",
       "        vertical-align: middle;\n",
       "    }\n",
       "\n",
       "    .dataframe tbody tr th {\n",
       "        vertical-align: top;\n",
       "    }\n",
       "\n",
       "    .dataframe thead th {\n",
       "        text-align: right;\n",
       "    }\n",
       "</style>\n",
       "<table border=\"1\" class=\"dataframe\">\n",
       "  <thead>\n",
       "    <tr style=\"text-align: right;\">\n",
       "      <th></th>\n",
       "      <th>Gibbs_energy/J/mol</th>\n",
       "    </tr>\n",
       "  </thead>\n",
       "  <tbody>\n",
       "    <tr>\n",
       "      <th>RandomForest MSE</th>\n",
       "      <td>5.707074e+06</td>\n",
       "    </tr>\n",
       "    <tr>\n",
       "      <th>MultipleLayerPerceptron MSE</th>\n",
       "      <td>1.568012e+09</td>\n",
       "    </tr>\n",
       "    <tr>\n",
       "      <th>DecisionTree MSE</th>\n",
       "      <td>1.013619e+07</td>\n",
       "    </tr>\n",
       "    <tr>\n",
       "      <th>KNeighbor(Arithmetic mean) MSE</th>\n",
       "      <td>8.068942e+06</td>\n",
       "    </tr>\n",
       "    <tr>\n",
       "      <th>KNeighbor(weighed mean) MSE</th>\n",
       "      <td>7.609105e+06</td>\n",
       "    </tr>\n",
       "    <tr>\n",
       "      <th>Linear MSE</th>\n",
       "      <td>6.559658e+06</td>\n",
       "    </tr>\n",
       "    <tr>\n",
       "      <th>rbf_SVR MSE</th>\n",
       "      <td>9.149820e+07</td>\n",
       "    </tr>\n",
       "    <tr>\n",
       "      <th>linear_SVR MSE</th>\n",
       "      <td>9.147932e+07</td>\n",
       "    </tr>\n",
       "    <tr>\n",
       "      <th>RidgeCV MSE</th>\n",
       "      <td>1.151268e+06</td>\n",
       "    </tr>\n",
       "    <tr>\n",
       "      <th>KernelRidge MSE</th>\n",
       "      <td>1.597496e+06</td>\n",
       "    </tr>\n",
       "    <tr>\n",
       "      <th>Gaussian_DotProduct MSE</th>\n",
       "      <td>6.466598e+06</td>\n",
       "    </tr>\n",
       "  </tbody>\n",
       "</table>\n",
       "</div>"
      ],
      "text/plain": [
       "                                Gibbs_energy/J/mol\n",
       "RandomForest MSE                      5.707074e+06\n",
       "MultipleLayerPerceptron MSE           1.568012e+09\n",
       "DecisionTree MSE                      1.013619e+07\n",
       "KNeighbor(Arithmetic mean) MSE        8.068942e+06\n",
       "KNeighbor(weighed mean) MSE           7.609105e+06\n",
       "Linear MSE                            6.559658e+06\n",
       "rbf_SVR MSE                           9.149820e+07\n",
       "linear_SVR MSE                        9.147932e+07\n",
       "RidgeCV MSE                           1.151268e+06\n",
       "KernelRidge MSE                       1.597496e+06\n",
       "Gaussian_DotProduct MSE               6.466598e+06"
      ]
     },
     "execution_count": 21,
     "metadata": {},
     "output_type": "execute_result"
    }
   ],
   "source": [
    "data_MSE"
   ]
  },
  {
   "cell_type": "code",
   "execution_count": 22,
   "metadata": {},
   "outputs": [
    {
     "data": {
      "text/html": [
       "<div>\n",
       "<style scoped>\n",
       "    .dataframe tbody tr th:only-of-type {\n",
       "        vertical-align: middle;\n",
       "    }\n",
       "\n",
       "    .dataframe tbody tr th {\n",
       "        vertical-align: top;\n",
       "    }\n",
       "\n",
       "    .dataframe thead th {\n",
       "        text-align: right;\n",
       "    }\n",
       "</style>\n",
       "<table border=\"1\" class=\"dataframe\">\n",
       "  <thead>\n",
       "    <tr style=\"text-align: right;\">\n",
       "      <th></th>\n",
       "      <th>Error in %</th>\n",
       "    </tr>\n",
       "  </thead>\n",
       "  <tbody>\n",
       "    <tr>\n",
       "      <th>RandomForest MAPE</th>\n",
       "      <td>2.899882</td>\n",
       "    </tr>\n",
       "    <tr>\n",
       "      <th>MultipleLayerPerceptron MAPE</th>\n",
       "      <td>54.698815</td>\n",
       "    </tr>\n",
       "    <tr>\n",
       "      <th>DecisionTree MAPE</th>\n",
       "      <td>3.957428</td>\n",
       "    </tr>\n",
       "    <tr>\n",
       "      <th>KNeighbor(Arithmetic mean) MAPE</th>\n",
       "      <td>3.345279</td>\n",
       "    </tr>\n",
       "    <tr>\n",
       "      <th>KNeighbor(weighed mean) MAPE</th>\n",
       "      <td>3.142914</td>\n",
       "    </tr>\n",
       "    <tr>\n",
       "      <th>Linear MAPE</th>\n",
       "      <td>2.782933</td>\n",
       "    </tr>\n",
       "    <tr>\n",
       "      <th>rbf_SVR MAPE</th>\n",
       "      <td>11.737815</td>\n",
       "    </tr>\n",
       "    <tr>\n",
       "      <th>linear_SVR MAPE</th>\n",
       "      <td>11.736561</td>\n",
       "    </tr>\n",
       "    <tr>\n",
       "      <th>RidgeCV MAPE</th>\n",
       "      <td>1.354966</td>\n",
       "    </tr>\n",
       "    <tr>\n",
       "      <th>KernelRidge MAPE</th>\n",
       "      <td>1.250699</td>\n",
       "    </tr>\n",
       "    <tr>\n",
       "      <th>Gaussian_DotProduct MAPE</th>\n",
       "      <td>2.585844</td>\n",
       "    </tr>\n",
       "  </tbody>\n",
       "</table>\n",
       "</div>"
      ],
      "text/plain": [
       "                                 Error in %\n",
       "RandomForest MAPE                  2.899882\n",
       "MultipleLayerPerceptron MAPE      54.698815\n",
       "DecisionTree MAPE                  3.957428\n",
       "KNeighbor(Arithmetic mean) MAPE    3.345279\n",
       "KNeighbor(weighed mean) MAPE       3.142914\n",
       "Linear MAPE                        2.782933\n",
       "rbf_SVR MAPE                      11.737815\n",
       "linear_SVR MAPE                   11.736561\n",
       "RidgeCV MAPE                       1.354966\n",
       "KernelRidge MAPE                   1.250699\n",
       "Gaussian_DotProduct MAPE           2.585844"
      ]
     },
     "execution_count": 22,
     "metadata": {},
     "output_type": "execute_result"
    }
   ],
   "source": [
    "data_MAPE"
   ]
  },
  {
   "cell_type": "code",
   "execution_count": 23,
   "metadata": {},
   "outputs": [
    {
     "data": {
      "image/png": "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\n",
      "text/plain": [
       "<Figure size 1440x720 with 1 Axes>"
      ]
     },
     "metadata": {
      "needs_background": "light"
     },
     "output_type": "display_data"
    }
   ],
   "source": [
    "data_R2.plot.bar(figsize=(20, 10))\n",
    "plt.ylim(-0.1,1)\n",
    "plt.savefig('./ R2 of Different Algorithm.png',format='png')"
   ]
  },
  {
   "cell_type": "code",
   "execution_count": 24,
   "metadata": {},
   "outputs": [
    {
     "data": {
      "text/html": [
       "<div>\n",
       "<style scoped>\n",
       "    .dataframe tbody tr th:only-of-type {\n",
       "        vertical-align: middle;\n",
       "    }\n",
       "\n",
       "    .dataframe tbody tr th {\n",
       "        vertical-align: top;\n",
       "    }\n",
       "\n",
       "    .dataframe thead th {\n",
       "        text-align: right;\n",
       "    }\n",
       "</style>\n",
       "<table border=\"1\" class=\"dataframe\">\n",
       "  <thead>\n",
       "    <tr style=\"text-align: right;\">\n",
       "      <th></th>\n",
       "      <th>Error in %</th>\n",
       "    </tr>\n",
       "  </thead>\n",
       "  <tbody>\n",
       "    <tr>\n",
       "      <th>RandomForest MAPE</th>\n",
       "      <td>2.899882</td>\n",
       "    </tr>\n",
       "    <tr>\n",
       "      <th>MultipleLayerPerceptron MAPE</th>\n",
       "      <td>54.698815</td>\n",
       "    </tr>\n",
       "    <tr>\n",
       "      <th>DecisionTree MAPE</th>\n",
       "      <td>3.957428</td>\n",
       "    </tr>\n",
       "    <tr>\n",
       "      <th>KNeighbor(Arithmetic mean) MAPE</th>\n",
       "      <td>3.345279</td>\n",
       "    </tr>\n",
       "    <tr>\n",
       "      <th>KNeighbor(weighed mean) MAPE</th>\n",
       "      <td>3.142914</td>\n",
       "    </tr>\n",
       "    <tr>\n",
       "      <th>Linear MAPE</th>\n",
       "      <td>2.782933</td>\n",
       "    </tr>\n",
       "    <tr>\n",
       "      <th>rbf_SVR MAPE</th>\n",
       "      <td>11.737815</td>\n",
       "    </tr>\n",
       "    <tr>\n",
       "      <th>linear_SVR MAPE</th>\n",
       "      <td>11.736561</td>\n",
       "    </tr>\n",
       "    <tr>\n",
       "      <th>RidgeCV MAPE</th>\n",
       "      <td>1.354966</td>\n",
       "    </tr>\n",
       "    <tr>\n",
       "      <th>KernelRidge MAPE</th>\n",
       "      <td>1.250699</td>\n",
       "    </tr>\n",
       "    <tr>\n",
       "      <th>Gaussian_DotProduct MAPE</th>\n",
       "      <td>2.585844</td>\n",
       "    </tr>\n",
       "  </tbody>\n",
       "</table>\n",
       "</div>"
      ],
      "text/plain": [
       "                                 Error in %\n",
       "RandomForest MAPE                  2.899882\n",
       "MultipleLayerPerceptron MAPE      54.698815\n",
       "DecisionTree MAPE                  3.957428\n",
       "KNeighbor(Arithmetic mean) MAPE    3.345279\n",
       "KNeighbor(weighed mean) MAPE       3.142914\n",
       "Linear MAPE                        2.782933\n",
       "rbf_SVR MAPE                      11.737815\n",
       "linear_SVR MAPE                   11.736561\n",
       "RidgeCV MAPE                       1.354966\n",
       "KernelRidge MAPE                   1.250699\n",
       "Gaussian_DotProduct MAPE           2.585844"
      ]
     },
     "execution_count": 24,
     "metadata": {},
     "output_type": "execute_result"
    }
   ],
   "source": [
    "data_MAPE"
   ]
  },
  {
   "cell_type": "code",
   "execution_count": 25,
   "metadata": {},
   "outputs": [
    {
     "ename": "KeyError",
     "evalue": "'Gibbs_energy/J/mol'",
     "output_type": "error",
     "traceback": [
      "\u001b[0;31m---------------------------------------------------------------------------\u001b[0m",
      "\u001b[0;31mKeyError\u001b[0m                                  Traceback (most recent call last)",
      "\u001b[0;32m~/.local/lib/python3.6/site-packages/pandas/core/indexes/base.py\u001b[0m in \u001b[0;36mget_loc\u001b[0;34m(self, key, method, tolerance)\u001b[0m\n\u001b[1;32m   2656\u001b[0m             \u001b[0;32mtry\u001b[0m\u001b[0;34m:\u001b[0m\u001b[0;34m\u001b[0m\u001b[0;34m\u001b[0m\u001b[0m\n\u001b[0;32m-> 2657\u001b[0;31m                 \u001b[0;32mreturn\u001b[0m \u001b[0mself\u001b[0m\u001b[0;34m.\u001b[0m\u001b[0m_engine\u001b[0m\u001b[0;34m.\u001b[0m\u001b[0mget_loc\u001b[0m\u001b[0;34m(\u001b[0m\u001b[0mkey\u001b[0m\u001b[0;34m)\u001b[0m\u001b[0;34m\u001b[0m\u001b[0;34m\u001b[0m\u001b[0m\n\u001b[0m\u001b[1;32m   2658\u001b[0m             \u001b[0;32mexcept\u001b[0m \u001b[0mKeyError\u001b[0m\u001b[0;34m:\u001b[0m\u001b[0;34m\u001b[0m\u001b[0;34m\u001b[0m\u001b[0m\n",
      "\u001b[0;32mpandas/_libs/index.pyx\u001b[0m in \u001b[0;36mpandas._libs.index.IndexEngine.get_loc\u001b[0;34m()\u001b[0m\n",
      "\u001b[0;32mpandas/_libs/index.pyx\u001b[0m in \u001b[0;36mpandas._libs.index.IndexEngine.get_loc\u001b[0;34m()\u001b[0m\n",
      "\u001b[0;32mpandas/_libs/hashtable_class_helper.pxi\u001b[0m in \u001b[0;36mpandas._libs.hashtable.PyObjectHashTable.get_item\u001b[0;34m()\u001b[0m\n",
      "\u001b[0;32mpandas/_libs/hashtable_class_helper.pxi\u001b[0m in \u001b[0;36mpandas._libs.hashtable.PyObjectHashTable.get_item\u001b[0;34m()\u001b[0m\n",
      "\u001b[0;31mKeyError\u001b[0m: 'Gibbs_energy/J/mol'",
      "\nDuring handling of the above exception, another exception occurred:\n",
      "\u001b[0;31mKeyError\u001b[0m                                  Traceback (most recent call last)",
      "\u001b[0;32m<ipython-input-25-35cf4173f76f>\u001b[0m in \u001b[0;36m<module>\u001b[0;34m\u001b[0m\n\u001b[1;32m      1\u001b[0m \u001b[0;31m#pd.set_option('mpl_style','default')\u001b[0m\u001b[0;34m\u001b[0m\u001b[0;34m\u001b[0m\u001b[0;34m\u001b[0m\u001b[0m\n\u001b[0;32m----> 2\u001b[0;31m \u001b[0mdata_MAPE\u001b[0m\u001b[0;34m[\u001b[0m\u001b[0;34m'Gibbs_energy/J/mol'\u001b[0m\u001b[0;34m]\u001b[0m\u001b[0;34m.\u001b[0m\u001b[0mplot\u001b[0m\u001b[0;34m(\u001b[0m\u001b[0mkind\u001b[0m\u001b[0;34m=\u001b[0m\u001b[0;34m'barh'\u001b[0m\u001b[0;34m,\u001b[0m\u001b[0mfigsize\u001b[0m\u001b[0;34m=\u001b[0m\u001b[0;34m(\u001b[0m\u001b[0;36m10\u001b[0m\u001b[0;34m,\u001b[0m \u001b[0;36m10\u001b[0m\u001b[0;34m)\u001b[0m\u001b[0;34m)\u001b[0m\u001b[0;34m\u001b[0m\u001b[0;34m\u001b[0m\u001b[0m\n\u001b[0m\u001b[1;32m      3\u001b[0m \u001b[0mplt\u001b[0m\u001b[0;34m.\u001b[0m\u001b[0msavefig\u001b[0m\u001b[0;34m(\u001b[0m\u001b[0;34m'./ MAPE of Different Algorithm2.png'\u001b[0m\u001b[0;34m,\u001b[0m\u001b[0mformat\u001b[0m\u001b[0;34m=\u001b[0m\u001b[0;34m'png'\u001b[0m\u001b[0;34m)\u001b[0m\u001b[0;34m\u001b[0m\u001b[0;34m\u001b[0m\u001b[0m\n",
      "\u001b[0;32m~/.local/lib/python3.6/site-packages/pandas/core/frame.py\u001b[0m in \u001b[0;36m__getitem__\u001b[0;34m(self, key)\u001b[0m\n\u001b[1;32m   2925\u001b[0m             \u001b[0;32mif\u001b[0m \u001b[0mself\u001b[0m\u001b[0;34m.\u001b[0m\u001b[0mcolumns\u001b[0m\u001b[0;34m.\u001b[0m\u001b[0mnlevels\u001b[0m \u001b[0;34m>\u001b[0m \u001b[0;36m1\u001b[0m\u001b[0;34m:\u001b[0m\u001b[0;34m\u001b[0m\u001b[0;34m\u001b[0m\u001b[0m\n\u001b[1;32m   2926\u001b[0m                 \u001b[0;32mreturn\u001b[0m \u001b[0mself\u001b[0m\u001b[0;34m.\u001b[0m\u001b[0m_getitem_multilevel\u001b[0m\u001b[0;34m(\u001b[0m\u001b[0mkey\u001b[0m\u001b[0;34m)\u001b[0m\u001b[0;34m\u001b[0m\u001b[0;34m\u001b[0m\u001b[0m\n\u001b[0;32m-> 2927\u001b[0;31m             \u001b[0mindexer\u001b[0m \u001b[0;34m=\u001b[0m \u001b[0mself\u001b[0m\u001b[0;34m.\u001b[0m\u001b[0mcolumns\u001b[0m\u001b[0;34m.\u001b[0m\u001b[0mget_loc\u001b[0m\u001b[0;34m(\u001b[0m\u001b[0mkey\u001b[0m\u001b[0;34m)\u001b[0m\u001b[0;34m\u001b[0m\u001b[0;34m\u001b[0m\u001b[0m\n\u001b[0m\u001b[1;32m   2928\u001b[0m             \u001b[0;32mif\u001b[0m \u001b[0mis_integer\u001b[0m\u001b[0;34m(\u001b[0m\u001b[0mindexer\u001b[0m\u001b[0;34m)\u001b[0m\u001b[0;34m:\u001b[0m\u001b[0;34m\u001b[0m\u001b[0;34m\u001b[0m\u001b[0m\n\u001b[1;32m   2929\u001b[0m                 \u001b[0mindexer\u001b[0m \u001b[0;34m=\u001b[0m \u001b[0;34m[\u001b[0m\u001b[0mindexer\u001b[0m\u001b[0;34m]\u001b[0m\u001b[0;34m\u001b[0m\u001b[0;34m\u001b[0m\u001b[0m\n",
      "\u001b[0;32m~/.local/lib/python3.6/site-packages/pandas/core/indexes/base.py\u001b[0m in \u001b[0;36mget_loc\u001b[0;34m(self, key, method, tolerance)\u001b[0m\n\u001b[1;32m   2657\u001b[0m                 \u001b[0;32mreturn\u001b[0m \u001b[0mself\u001b[0m\u001b[0;34m.\u001b[0m\u001b[0m_engine\u001b[0m\u001b[0;34m.\u001b[0m\u001b[0mget_loc\u001b[0m\u001b[0;34m(\u001b[0m\u001b[0mkey\u001b[0m\u001b[0;34m)\u001b[0m\u001b[0;34m\u001b[0m\u001b[0;34m\u001b[0m\u001b[0m\n\u001b[1;32m   2658\u001b[0m             \u001b[0;32mexcept\u001b[0m \u001b[0mKeyError\u001b[0m\u001b[0;34m:\u001b[0m\u001b[0;34m\u001b[0m\u001b[0;34m\u001b[0m\u001b[0m\n\u001b[0;32m-> 2659\u001b[0;31m                 \u001b[0;32mreturn\u001b[0m \u001b[0mself\u001b[0m\u001b[0;34m.\u001b[0m\u001b[0m_engine\u001b[0m\u001b[0;34m.\u001b[0m\u001b[0mget_loc\u001b[0m\u001b[0;34m(\u001b[0m\u001b[0mself\u001b[0m\u001b[0;34m.\u001b[0m\u001b[0m_maybe_cast_indexer\u001b[0m\u001b[0;34m(\u001b[0m\u001b[0mkey\u001b[0m\u001b[0;34m)\u001b[0m\u001b[0;34m)\u001b[0m\u001b[0;34m\u001b[0m\u001b[0;34m\u001b[0m\u001b[0m\n\u001b[0m\u001b[1;32m   2660\u001b[0m         \u001b[0mindexer\u001b[0m \u001b[0;34m=\u001b[0m \u001b[0mself\u001b[0m\u001b[0;34m.\u001b[0m\u001b[0mget_indexer\u001b[0m\u001b[0;34m(\u001b[0m\u001b[0;34m[\u001b[0m\u001b[0mkey\u001b[0m\u001b[0;34m]\u001b[0m\u001b[0;34m,\u001b[0m \u001b[0mmethod\u001b[0m\u001b[0;34m=\u001b[0m\u001b[0mmethod\u001b[0m\u001b[0;34m,\u001b[0m \u001b[0mtolerance\u001b[0m\u001b[0;34m=\u001b[0m\u001b[0mtolerance\u001b[0m\u001b[0;34m)\u001b[0m\u001b[0;34m\u001b[0m\u001b[0;34m\u001b[0m\u001b[0m\n\u001b[1;32m   2661\u001b[0m         \u001b[0;32mif\u001b[0m \u001b[0mindexer\u001b[0m\u001b[0;34m.\u001b[0m\u001b[0mndim\u001b[0m \u001b[0;34m>\u001b[0m \u001b[0;36m1\u001b[0m \u001b[0;32mor\u001b[0m \u001b[0mindexer\u001b[0m\u001b[0;34m.\u001b[0m\u001b[0msize\u001b[0m \u001b[0;34m>\u001b[0m \u001b[0;36m1\u001b[0m\u001b[0;34m:\u001b[0m\u001b[0;34m\u001b[0m\u001b[0;34m\u001b[0m\u001b[0m\n",
      "\u001b[0;32mpandas/_libs/index.pyx\u001b[0m in \u001b[0;36mpandas._libs.index.IndexEngine.get_loc\u001b[0;34m()\u001b[0m\n",
      "\u001b[0;32mpandas/_libs/index.pyx\u001b[0m in \u001b[0;36mpandas._libs.index.IndexEngine.get_loc\u001b[0;34m()\u001b[0m\n",
      "\u001b[0;32mpandas/_libs/hashtable_class_helper.pxi\u001b[0m in \u001b[0;36mpandas._libs.hashtable.PyObjectHashTable.get_item\u001b[0;34m()\u001b[0m\n",
      "\u001b[0;32mpandas/_libs/hashtable_class_helper.pxi\u001b[0m in \u001b[0;36mpandas._libs.hashtable.PyObjectHashTable.get_item\u001b[0;34m()\u001b[0m\n",
      "\u001b[0;31mKeyError\u001b[0m: 'Gibbs_energy/J/mol'"
     ]
    }
   ],
   "source": [
    "#pd.set_option('mpl_style','default')\n",
    "data_MAPE['Gibbs_energy/J/mol'].plot(kind='barh',figsize=(10, 10))\n",
    "plt.savefig('./ MAPE of Different Algorithm2.png',format='png')"
   ]
  },
  {
   "cell_type": "code",
   "execution_count": null,
   "metadata": {},
   "outputs": [],
   "source": [
    "data_MAPE.plot.bar(figsize=(20, 7))\n",
    "plt.savefig('./ MAPE of Different Algorithm1.png',format='png')"
   ]
  },
  {
   "cell_type": "code",
   "execution_count": null,
   "metadata": {},
   "outputs": [],
   "source": [
    "data_MAPE.plot(kind='barh',stacked=True,figsize=(15, 10))\n",
    "plt.xlabel(u\"MAPE Value\")# plots an axis lable\n",
    "plt.ylabel(u\"Algorithm\") \n",
    "plt.title(u\"MAPE of Different Algorithm\")\n",
    "plt.savefig('./ MAPE of Different Algorithm.png',format='png')"
   ]
  },
  {
   "cell_type": "code",
   "execution_count": null,
   "metadata": {},
   "outputs": [],
   "source": []
  },
  {
   "cell_type": "code",
   "execution_count": null,
   "metadata": {},
   "outputs": [],
   "source": []
  }
 ],
 "metadata": {
  "kernelspec": {
   "display_name": "Python 3",
   "language": "python",
   "name": "python3"
  },
  "language_info": {
   "codemirror_mode": {
    "name": "ipython",
    "version": 3
   },
   "file_extension": ".py",
   "mimetype": "text/x-python",
   "name": "python",
   "nbconvert_exporter": "python",
   "pygments_lexer": "ipython3",
   "version": "3.6.5"
  }
 },
 "nbformat": 4,
 "nbformat_minor": 2
}
