{
 "cells": [
  {
   "cell_type": "code",
   "execution_count": 5,
   "metadata": {},
   "outputs": [],
   "source": [
    "import numpy as np\n",
    "import pandas as pd\n",
    "import matplotlib.pyplot as plt\n",
    "import tensorflow as tf\n",
    "import keras as ks\n",
    "from sklearn.preprocessing import MinMaxScaler\n",
    "from sklearn.metrics import accuracy_score\n",
    "from sklearn.gaussian_process import GaussianProcessRegressor as gpr \n",
    "from sklearn.gaussian_process.kernels import ConstantKernel,DotProduct, RBF, RationalQuadratic, ExpSineSquared, Matern, Exponentiation"
   ]
  },
  {
   "cell_type": "code",
   "execution_count": 6,
   "metadata": {},
   "outputs": [],
   "source": [
    "df = pd.read_excel('./Gibbs energy inference.xlsx')\n",
    "df_Fe_C = pd.read_excel('./Fe-C system.xlsx')\n",
    "df_Fe_Cr = pd.read_excel('./Fe-Cr system.xlsx')\n",
    "df_Fe_C_Cr = pd.read_excel('./Fe-C-Cr system.xlsx')"
   ]
  },
  {
   "cell_type": "code",
   "execution_count": 7,
   "metadata": {},
   "outputs": [],
   "source": [
    "df_Fe_C_1=df_Fe_C.reindex(columns=['Wt-% Cr','Wt-% C', 'T/K', 'Gibbs_energy/J/mol'], fill_value=0)"
   ]
  },
  {
   "cell_type": "code",
   "execution_count": 8,
   "metadata": {},
   "outputs": [],
   "source": [
    "df_Fe_Cr_1=df_Fe_Cr.reindex(columns=['Wt-% Cr','Wt-% C', 'T/K', 'Gibbs_energy/J/mol'], fill_value=0)"
   ]
  },
  {
   "cell_type": "code",
   "execution_count": 9,
   "metadata": {},
   "outputs": [],
   "source": [
    "df=pd.concat([df_Fe_C_1,df_Fe_Cr_1,df_Fe_C_Cr]).reset_index(drop=True)"
   ]
  },
  {
   "cell_type": "code",
   "execution_count": 10,
   "metadata": {},
   "outputs": [],
   "source": [
    "scaler = MinMaxScaler(feature_range=(0, 1))\n",
    "df_scaler = pd.DataFrame(scaler.fit_transform(df))"
   ]
  },
  {
   "cell_type": "code",
   "execution_count": 11,
   "metadata": {},
   "outputs": [],
   "source": [
    "Train = df_scaler.loc[:95].rename(columns={0:'Wt-% Cr',1:'Wt-% C',2:'T/K',3:'Gibbs_energy/J/mol'})"
   ]
  },
  {
   "cell_type": "code",
   "execution_count": 12,
   "metadata": {},
   "outputs": [],
   "source": [
    "Test = df_scaler.loc[96:].reset_index(drop=True).rename(columns={0:'Wt-% Cr',1:'Wt-% C',2:'T/K',3:'Gibbs_energy/J/mol'})"
   ]
  },
  {
   "cell_type": "code",
   "execution_count": 13,
   "metadata": {},
   "outputs": [
    {
     "data": {
      "text/plain": [
       "<matplotlib.axes._subplots.AxesSubplot at 0x14843f2f6a0>"
      ]
     },
     "execution_count": 13,
     "metadata": {},
     "output_type": "execute_result"
    },
    {
     "data": {
      "image/png": "[encoded data removed]",
      "text/plain": [
       "<Figure size 360x360 with 1 Axes>"
      ]
     },
     "metadata": {
      "needs_background": "light"
     },
     "output_type": "display_data"
    }
   ],
   "source": [
    "Train.plot(kind = 'kde', figsize = (5, 5))"
   ]
  },
  {
   "cell_type": "code",
   "execution_count": 14,
   "metadata": {},
   "outputs": [
    {
     "data": {
      "text/plain": [
       "GaussianProcessRegressor(alpha=0.0001, copy_X_train=True, kernel=None,\n",
       "                         n_restarts_optimizer=5, normalize_y='True',\n",
       "                         optimizer='fmin_l_bfgs_b', random_state=42)"
      ]
     },
     "execution_count": 14,
     "metadata": {},
     "output_type": "execute_result"
    }
   ],
   "source": [
    "Gaussian= gpr(alpha = 0.0001,n_restarts_optimizer=5,normalize_y=\"True\",optimizer='fmin_l_bfgs_b',random_state=42)\n",
    "#kernel=k,alpha = 0.0001,n_restarts_optimizer=5,normalize_y=\"True\",optimizer='fmin_l_bfgs_b',random_state=42)\n",
    "Gaussian.fit(Train[['Wt-% Cr','Wt-% C', 'T/K']],Train['Gibbs_energy/J/mol'])"
   ]
  },
  {
   "cell_type": "code",
   "execution_count": 15,
   "metadata": {},
   "outputs": [],
   "source": [
    "y_prediction=Gaussian.predict(Test[['Wt-% Cr','Wt-% C', 'T/K']])"
   ]
  },
  {
   "cell_type": "code",
   "execution_count": 16,
   "metadata": {},
   "outputs": [
    {
     "data": {
      "text/plain": [
       "array([0.59108081, 0.46131501, 0.33230424, 0.33024273, 0.58891151,\n",
       "       0.64056851, 0.61756255, 0.50143409, 0.80823963, 0.31113611,\n",
       "       0.30839167, 0.48582296, 0.74799793, 0.56318298, 0.6122341 ,\n",
       "       0.46237685])"
      ]
     },
     "execution_count": 16,
     "metadata": {},
     "output_type": "execute_result"
    }
   ],
   "source": [
    "y_prediction"
   ]
  },
  {
   "cell_type": "code",
   "execution_count": 149,
   "metadata": {},
   "outputs": [
    {
     "data": {
      "text/plain": [
       "array([0.58214092, 0.45530222, 0.32987302, 0.32491439, 0.58019074,\n",
       "       0.63402247, 0.58600584, 0.49589399, 0.78748743, 0.2956694 ,\n",
       "       0.30661721, 0.43103897, 0.66929823, 0.39791365, 0.50687877,\n",
       "       0.42486956])"
      ]
     },
     "execution_count": 149,
     "metadata": {},
     "output_type": "execute_result"
    }
   ],
   "source": [
    "np.array(Test['Gibbs_energy/J/mol'])"
   ]
  },
  {
   "cell_type": "code",
   "execution_count": 135,
   "metadata": {},
   "outputs": [
    {
     "data": {
      "text/plain": [
       "0.03466780379866186"
      ]
     },
     "execution_count": 135,
     "metadata": {},
     "output_type": "execute_result"
    }
   ],
   "source": [
    "from sklearn.metrics import mean_absolute_error\n",
    "mean_absolute_error(y_prediction,np.array(Test['Gibbs_energy/J/mol']))"
   ]
  },
  {
   "cell_type": "code",
   "execution_count": 146,
   "metadata": {},
   "outputs": [],
   "source": [
    "def Mean_absolute_percentage_error(ture_value, prediction_value):\n",
    "    return np.mean(np.abs((prediction_value- ture_value))/ture_value)*100"
   ]
  },
  {
   "cell_type": "code",
   "execution_count": 147,
   "metadata": {},
   "outputs": [
    {
     "data": {
      "text/plain": [
       "7.3957131867002035"
      ]
     },
     "execution_count": 147,
     "metadata": {},
     "output_type": "execute_result"
    }
   ],
   "source": [
    "Mean_absolute_percentage_error(Test['Gibbs_energy/J/mol'].values,y_prediction)"
   ]
  },
  {
   "cell_type": "code",
   "execution_count": 139,
   "metadata": {},
   "outputs": [
    {
     "data": {
      "text/plain": [
       "0.8350965802073895"
      ]
     },
     "execution_count": 139,
     "metadata": {},
     "output_type": "execute_result"
    }
   ],
   "source": [
    "Gaussian.score(Test[['Wt-% Cr','Wt-% C', 'T/K']],Test['Gibbs_energy/J/mol'])"
   ]
  }
 ],
 "metadata": {
  "kernelspec": {
   "display_name": "Python 3",
   "language": "python",
   "name": "python3"
  },
  "language_info": {
   "codemirror_mode": {
    "name": "ipython",
    "version": 3
   },
   "file_extension": ".py",
   "mimetype": "text/x-python",
   "name": "python",
   "nbconvert_exporter": "python",
   "pygments_lexer": "ipython3",
   "version": "3.6.5"
  }
 },
 "nbformat": 4,
 "nbformat_minor": 2
}
