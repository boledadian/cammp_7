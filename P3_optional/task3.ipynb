{
 "cells": [
  {
   "cell_type": "code",
   "execution_count": 3,
   "metadata": {},
   "outputs": [],
   "source": [
    "import pandas as pd\n",
    "data = pd.read_csv(\"E_Vo_withDatafromPeriodicTable.csv\")\n",
    "df= pd.DataFrame(data)"
   ]
  },
  {
   "cell_type": "code",
   "execution_count": 4,
   "metadata": {},
   "outputs": [
    {
     "data": {
      "text/plain": [
       "Index(['Chemical formula', 'A', 'B', 'In literature', 'Valence A', 'Valence B',\n",
       "       'Radius A [ang]', 'Radius B [ang]', 'Lowest distortion',\n",
       "       'Formation energy [eV/atom]', 'Stability [eV/atom]',\n",
       "       'Magnetic moment [mu_B]', 'Volume per atom [A^3/atom]', 'Band gap [eV]',\n",
       "       'a [ang]', 'b [ang]', 'c [ang]', 'alpha [deg]', 'beta [deg]',\n",
       "       'gamma [deg]', 'A-AtomicNumber', 'A-AtomicMass', 'A-NumberofNeutrons',\n",
       "       'A-NumberofProtons', 'A-NumberofElectrons', 'A-Period', 'A-Group',\n",
       "       'A-AtomicRadius', 'A-Electronegativity', 'A-FirstIonization',\n",
       "       'A-Density', 'A-MeltingPoint', 'A-BoilingPoint', 'A-NumberOfIsotopes',\n",
       "       'A-SpecificHeat', 'A-NumberofShells', 'B-AtomicNumber', 'B-AtomicMass',\n",
       "       'B-NumberofNeutrons', 'B-NumberofProtons', 'B-NumberofElectrons',\n",
       "       'B-Period', 'B-Group', 'B-Electronegativity', 'B-FirstIonization',\n",
       "       'B-Density', 'B-MeltingPoint', 'B-BoilingPoint', 'B-NumberOfIsotopes',\n",
       "       'B-SpecificHeat', 'B-NumberofShells', 'Vacancy energy [eV/O atom]'],\n",
       "      dtype='object')"
      ]
     },
     "execution_count": 4,
     "metadata": {},
     "output_type": "execute_result"
    }
   ],
   "source": [
    "df.keys()"
   ]
  },
  {
   "cell_type": "code",
   "execution_count": 5,
   "metadata": {},
   "outputs": [],
   "source": [
    "df_temp1= [df['B'] == 'Fe']\n",
    "df_temp2= [df['B'] == 'Co']\n",
    "name = ['Fe','Co']\n",
    "df_temp = df[df['B'].isin(name)]\n",
    "df_temp = df_temp[['Radius A [ang]', 'A-Density','A-AtomicNumber','A-SpecificHeat',\n",
    "                   'B-AtomicMass','Vacancy energy [eV/O atom]']]"
   ]
  },
  {
   "cell_type": "code",
   "execution_count": 6,
   "metadata": {},
   "outputs": [
    {
     "name": "stdout",
     "output_type": "stream",
     "text": [
      "<class 'pandas.core.frame.DataFrame'>\n",
      "Int64Index: 146 entries, 876 to 1459\n",
      "Data columns (total 6 columns):\n",
      "Radius A [ang]                146 non-null float64\n",
      "A-Density                     146 non-null float64\n",
      "A-AtomicNumber                146 non-null int64\n",
      "A-SpecificHeat                136 non-null float64\n",
      "B-AtomicMass                  146 non-null float64\n",
      "Vacancy energy [eV/O atom]    124 non-null object\n",
      "dtypes: float64(4), int64(1), object(1)\n",
      "memory usage: 8.0+ KB\n"
     ]
    },
    {
     "data": {
      "text/plain": [
       "None"
      ]
     },
     "metadata": {},
     "output_type": "display_data"
    }
   ],
   "source": [
    "import numpy as np\n",
    "\n",
    "df_temp = df_temp.replace(to_replace='-',value=np.nan)\n",
    "display(df_temp.info())\n",
    "df_temp = df_temp.dropna()\n",
    "df_temp = df_temp.astype(float)"
   ]
  },
  {
   "cell_type": "code",
   "execution_count": null,
   "metadata": {},
   "outputs": [],
   "source": [
    "display(df_temp.head())\n",
    "display(df_temp.describe())"
   ]
  },
  {
   "cell_type": "code",
   "execution_count": null,
   "metadata": {},
   "outputs": [],
   "source": [
    "X = df_temp.values[:, 0:-1]\n",
    "Y = df_temp.values[:,-1]\n",
    "print(Y)"
   ]
  },
  {
   "cell_type": "code",
   "execution_count": null,
   "metadata": {},
   "outputs": [],
   "source": [
    "import seaborn as sns\n",
    "display(sns.pairplot(df_temp))\n",
    "import matplotlib.pyplot as plt\n",
    "plt.savefig(\"pairplot_features_selected.png\")"
   ]
  },
  {
   "cell_type": "code",
   "execution_count": null,
   "metadata": {},
   "outputs": [],
   "source": [
    "display(X.shape)\n",
    "display(Y.shape)"
   ]
  },
  {
   "cell_type": "code",
   "execution_count": null,
   "metadata": {},
   "outputs": [],
   "source": [
    "from sklearn.preprocessing import StandardScaler,MinMaxScaler\n",
    "scaler = StandardScaler()\n",
    "#scaler  = MinMaxScaler()\n",
    "X = scaler.fit_transform(X)"
   ]
  },
  {
   "cell_type": "code",
   "execution_count": null,
   "metadata": {},
   "outputs": [],
   "source": [
    "from sklearn.svm import SVR\n",
    "from sklearn.metrics import accuracy_score\n",
    "from sklearn.model_selection import train_test_split\n",
    "X_train, X_test, Y_train, Y_test = train_test_split(X, Y, test_size=0.2, random_state=42)\n",
    "clf = SVR(gamma=0.1, kernel='rbf',C = 5)\n",
    "clf.fit(X_train, Y_train) \n",
    "Y_pred = clf.predict(X_test)"
   ]
  },
  {
   "cell_type": "code",
   "execution_count": null,
   "metadata": {},
   "outputs": [],
   "source": [
    "from sklearn.metrics import mean_squared_error\n",
    "print(mean_squared_error(Y_pred,Y_test))\n",
    "plt.scatter(X_test[:,0], Y_test)\n",
    "plt.scatter(X_test[:,0], Y_pred)"
   ]
  },
  {
   "cell_type": "code",
   "execution_count": null,
   "metadata": {},
   "outputs": [],
   "source": [
    "from sklearn.neighbors import KNeighborsRegressor\n",
    "knn = KNeighborsRegressor(n_neighbors=3)\n",
    "knn.fit(X_train, Y_train) \n",
    "Y_pred = knn.predict(X_test)\n",
    "print(mean_squared_error(Y_pred,Y_test))\n",
    "plt.scatter(X_test[:, 0], Y_test)\n",
    "plt.scatter(X_test[:, 0], Y_pred)"
   ]
  },
  {
   "cell_type": "code",
   "execution_count": null,
   "metadata": {},
   "outputs": [],
   "source": [
    "#nn model\n",
    "from keras.layers import Input, Dense, Reshape, Flatten, Dropout\n",
    "from keras.models import Sequential, Model\n",
    "from keras.optimizers import Adam\n",
    "from keras import optimizers\n",
    "shape = X_train.shape"
   ]
  },
  {
   "cell_type": "code",
   "execution_count": null,
   "metadata": {},
   "outputs": [],
   "source": [
    "NN_model = Sequential()\n",
    "\n",
    "# The Input Layer :\n",
    "NN_model.add(Dense(10, kernel_initializer='normal',input_dim =shape[1], activation='tanh'))\n",
    "\n",
    "# The Hidden Layers :\n",
    "NN_model.add(Dense(10, kernel_initializer='normal',activation='tanh'))\n",
    "\n",
    "# The Output Layer :\n",
    "NN_model.add(Dense(1, kernel_initializer='normal',activation='linear'))\n",
    "\n",
    "# Compile the network :\n",
    "NN_model.compile(loss='mean_absolute_error', optimizer='adagrad', metrics=['mean_absolute_error'])\n",
    "NN_model.summary()"
   ]
  },
  {
   "cell_type": "code",
   "execution_count": null,
   "metadata": {},
   "outputs": [],
   "source": [
    "# history = NN_model.fit(X,Y,epochs=100,batch_size = 4, validation_data=[test,label])\n",
    "history = NN_model.fit(X_train,Y_train,epochs=100,batch_size = 5,validation_split=0.2)"
   ]
  },
  {
   "cell_type": "code",
   "execution_count": null,
   "metadata": {
    "scrolled": true
   },
   "outputs": [],
   "source": [
    "import matplotlib.pyplot as plt\n",
    "Y_pred = NN_model.predict(X_test)\n",
    "plt.plot(history.history['loss'],label = 'loss')\n",
    "plt.plot(history.history['val_loss'],label = 'val_loss')\n",
    "plt.legend()\n",
    "print(mean_squared_error(Y_pred, Y_test))"
   ]
  },
  {
   "cell_type": "code",
   "execution_count": null,
   "metadata": {},
   "outputs": [],
   "source": [
    "data_test = pd.read_csv(\"E_Vo_dopedPerovskites_interpolated.csv\")\n",
    "df_test= pd.DataFrame(data_test)"
   ]
  },
  {
   "cell_type": "code",
   "execution_count": null,
   "metadata": {},
   "outputs": [],
   "source": [
    "df_test = df_test[['Radius A [ang]', 'A-Density','A-AtomicNumber','A-SpecificHeat','B-AtomicMass',\n",
    "                   'Vacancy energy [eV/O atom]']]"
   ]
  },
  {
   "cell_type": "code",
   "execution_count": null,
   "metadata": {},
   "outputs": [],
   "source": [
    "df_test.head(15)"
   ]
  },
  {
   "cell_type": "code",
   "execution_count": null,
   "metadata": {},
   "outputs": [],
   "source": [
    "test = df_test.values[:, 0:-1]\n",
    "label = df_test.values[:,-1]"
   ]
  },
  {
   "cell_type": "code",
   "execution_count": null,
   "metadata": {},
   "outputs": [],
   "source": [
    "scaler = StandardScaler()\n",
    "test = scaler.fit_transform(test)"
   ]
  },
  {
   "cell_type": "code",
   "execution_count": null,
   "metadata": {},
   "outputs": [],
   "source": [
    "test_pred = NN_model.predict(test)"
   ]
  },
  {
   "cell_type": "code",
   "execution_count": null,
   "metadata": {},
   "outputs": [],
   "source": [
    "mean_squared_error(label,test_pred)"
   ]
  },
  {
   "cell_type": "code",
   "execution_count": null,
   "metadata": {},
   "outputs": [],
   "source": [
    "test_pred"
   ]
  },
  {
   "cell_type": "code",
   "execution_count": null,
   "metadata": {},
   "outputs": [],
   "source": [
    "import matplotlib.pyplot as plt\n",
    "Y_pred = NN_model.predict(test)\n",
    "plt.plot(history.history['loss'],label = 'loss')\n",
    "plt.plot(history.history['val_loss'],label = 'val_loss')\n",
    "plt.legend()\n",
    "print(mean_squared_error(Y_pred, label))"
   ]
  }
 ],
 "metadata": {
  "kernelspec": {
   "display_name": "Python 3",
   "language": "python",
   "name": "python3"
  },
  "language_info": {
   "codemirror_mode": {
    "name": "ipython",
    "version": 3
   },
   "file_extension": ".py",
   "mimetype": "text/x-python",
   "name": "python",
   "nbconvert_exporter": "python",
   "pygments_lexer": "ipython3",
   "version": "3.6.6"
  }
 },
 "nbformat": 4,
 "nbformat_minor": 2
}
