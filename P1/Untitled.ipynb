{
 "cells": [
  {
   "cell_type": "code",
   "execution_count": 25,
   "metadata": {},
   "outputs": [],
   "source": [
    "import pandas as pd\n",
    "df = pd.read_excel('Cr-poisoning.xlsx')"
   ]
  },
  {
   "cell_type": "code",
   "execution_count": 26,
   "metadata": {},
   "outputs": [],
   "source": [
    "import numpy as np"
   ]
  },
  {
   "cell_type": "code",
   "execution_count": 27,
   "metadata": {},
   "outputs": [],
   "source": [
    "X1 = df['log pO2 /bar'].tolist()\n",
    "X2 = df['log CrO3 /bar'].tolist()\n",
    "X = np.c_[X1,X2]\n",
    "y = df['reaction product']"
   ]
  },
  {
   "cell_type": "code",
   "execution_count": 28,
   "metadata": {},
   "outputs": [],
   "source": [
    "from sklearn.preprocessing import MinMaxScaler\n",
    "scaler = MinMaxScaler()\n",
    "scaler.fit(X)\n",
    "X = scaler.transform(X)"
   ]
  },
  {
   "cell_type": "code",
   "execution_count": 29,
   "metadata": {},
   "outputs": [
    {
     "data": {
      "text/plain": [
       "0.7"
      ]
     },
     "execution_count": 29,
     "metadata": {},
     "output_type": "execute_result"
    }
   ],
   "source": [
    "from sklearn.svm import SVC\n",
    "from sklearn.metrics import accuracy_score\n",
    "from sklearn.model_selection import train_test_split\n",
    "X_train, X_test, y_train, y_test = train_test_split(X, y, train_size=0.75, random_state=42)\n",
    "clf = SVC(gamma=0.5, kernel='linear',C = 20)\n",
    "clf.fit(X_train, y_train) \n",
    "y_pred = clf.predict(X_test)\n",
    "accuracy_score(y_test, y_pred)"
   ]
  },
  {
   "cell_type": "code",
   "execution_count": 30,
   "metadata": {},
   "outputs": [
    {
     "data": {
      "text/plain": [
       "array([[1, 0, 0, 0, 0],\n",
       "       [2, 4, 0, 0, 0],\n",
       "       [0, 0, 4, 0, 0],\n",
       "       [0, 0, 3, 1, 0],\n",
       "       [0, 0, 0, 1, 4]])"
      ]
     },
     "execution_count": 30,
     "metadata": {},
     "output_type": "execute_result"
    }
   ],
   "source": [
    "from sklearn.metrics import confusion_matrix\n",
    "confusion_matrix(y_test, y_pred)"
   ]
  },
  {
   "cell_type": "code",
   "execution_count": null,
   "metadata": {},
   "outputs": [],
   "source": []
  },
  {
   "cell_type": "code",
   "execution_count": 34,
   "metadata": {},
   "outputs": [
    {
     "data": {
      "image/png": "[encoded data removed]",
      "text/plain": [
       "<Figure size 864x648 with 1 Axes>"
      ]
     },
     "metadata": {},
     "output_type": "display_data"
    }
   ],
   "source": [
    "import matplotlib.pyplot as plt\n",
    "from random import sample\n",
    "idx = sample(list(df.index), int(df.shape[0]))\n",
    "h = .02\n",
    "x_min, x_max  = X_train[:, 0].min() - .5, X_train[:, 0].max() + .5\n",
    "y_min, y_max = X_train[:, 1].min() - .5, X_train[:, 1].max() + .5\n",
    "xx, yy = np.meshgrid(np.arange(x_min, x_max, h), np.arange(y_min, y_max, h))\n",
    "Z = clf.predict(np.c_[xx.ravel(), yy.ravel()])\n",
    "\n",
    "# Put the result into a color plot\n",
    "encoder = {'SrO': 1, 'SrCrO3': 2, 'Sr3Cr2O8': 3,'Sr2CrO4':4,'SrCrO4':5}\n",
    "Z = np.array([encoder[z] for z in Z]).reshape(xx.shape)\n",
    "plt.figure(figsize=(12, 9))\n",
    "plt.pcolormesh(xx, yy, Z, cmap=plt.cm.Paired)\n",
    "\n",
    "# Plot also the training points\n",
    "col_map = {'SrO': 'olive', 'SrCrO3': 'navy', 'Sr3Cr2O8': 'magenta','Sr2CrO4':\"blue\",'SrCrO4':\"yellow\"}\n",
    "plt.scatter(X_train[:, 0], X_train[:, 1], c= [col_map[lb] for lb in y_train], edgecolors='k', cmap=plt.cm.Paired)\n",
    "plt.xlabel('comp 1')\n",
    "plt.ylabel('comp 2')\n",
    "\n",
    "plt.xlim(xx.min(), xx.max())\n",
    "plt.ylim(yy.min(), yy.max())\n",
    "plt.xticks(())\n",
    "plt.yticks(())\n",
    "plt.show()"
   ]
  },
  {
   "cell_type": "code",
   "execution_count": 35,
   "metadata": {},
   "outputs": [
    {
     "data": {
      "text/plain": [
       "60"
      ]
     },
     "execution_count": 35,
     "metadata": {},
     "output_type": "execute_result"
    }
   ],
   "source": [
    "len(X_train[:, 0])"
   ]
  },
  {
   "cell_type": "code",
   "execution_count": 36,
   "metadata": {},
   "outputs": [],
   "source": [
    "from keras.layers import Input, Dense, Reshape, Flatten, Dropout\n",
    "from keras.models import Sequential, Model\n",
    "from keras.optimizers import Adam\n",
    "from keras import optimizers\n",
    "from sklearn.preprocessing import LabelEncoder\n",
    "from keras.utils import np_utils"
   ]
  },
  {
   "cell_type": "code",
   "execution_count": 37,
   "metadata": {},
   "outputs": [],
   "source": [
    "le = LabelEncoder()\n",
    "le.fit(y_train)\n",
    "y_tarin = le.transform(y_train)"
   ]
  },
  {
   "cell_type": "code",
   "execution_count": 38,
   "metadata": {},
   "outputs": [],
   "source": [
    "y_test = le.transform(y_test)"
   ]
  },
  {
   "cell_type": "code",
   "execution_count": 39,
   "metadata": {},
   "outputs": [],
   "source": [
    "y_tarin = np_utils.to_categorical(y_tarin)"
   ]
  },
  {
   "cell_type": "code",
   "execution_count": 40,
   "metadata": {},
   "outputs": [],
   "source": [
    "model = Sequential()\n",
    "model.add(Dense(5, input_shape = [2,], activation = 'tanh'))\n",
    "model.add(Dense(5, activation = 'softmax'))"
   ]
  },
  {
   "cell_type": "code",
   "execution_count": 41,
   "metadata": {},
   "outputs": [],
   "source": [
    "sgd = optimizers.SGD(lr=0.1, nesterov=True)\n",
    "model.compile(loss='categorical_crossentropy', optimizer=sgd, metrics = ['accuracy'])"
   ]
  },
  {
   "cell_type": "code",
   "execution_count": 42,
   "metadata": {},
   "outputs": [
    {
     "name": "stdout",
     "output_type": "stream",
     "text": [
      "Epoch 1/100\n",
      "60/60 [==============================] - 0s 2ms/step - loss: 1.6677 - acc: 0.1667\n",
      "Epoch 2/100\n",
      "60/60 [==============================] - 0s 551us/step - loss: 1.6160 - acc: 0.2833\n",
      "Epoch 3/100\n",
      "60/60 [==============================] - 0s 637us/step - loss: 1.5937 - acc: 0.3167\n",
      "Epoch 4/100\n",
      "60/60 [==============================] - 0s 368us/step - loss: 1.5805 - acc: 0.3167\n",
      "Epoch 5/100\n",
      "60/60 [==============================] - 0s 436us/step - loss: 1.5718 - acc: 0.3167\n",
      "Epoch 6/100\n",
      "60/60 [==============================] - 0s 392us/step - loss: 1.5621 - acc: 0.3167\n",
      "Epoch 7/100\n",
      "60/60 [==============================] - 0s 363us/step - loss: 1.5369 - acc: 0.3167\n",
      "Epoch 8/100\n",
      "60/60 [==============================] - 0s 352us/step - loss: 1.5192 - acc: 0.3167\n",
      "Epoch 9/100\n",
      "60/60 [==============================] - 0s 396us/step - loss: 1.5104 - acc: 0.3333\n",
      "Epoch 10/100\n",
      "60/60 [==============================] - 0s 480us/step - loss: 1.4720 - acc: 0.3333\n",
      "Epoch 11/100\n",
      "60/60 [==============================] - 0s 458us/step - loss: 1.4637 - acc: 0.3333\n",
      "Epoch 12/100\n",
      "60/60 [==============================] - 0s 385us/step - loss: 1.4391 - acc: 0.3333\n",
      "Epoch 13/100\n",
      "60/60 [==============================] - 0s 310us/step - loss: 1.4143 - acc: 0.4167\n",
      "Epoch 14/100\n",
      "60/60 [==============================] - 0s 699us/step - loss: 1.3840 - acc: 0.3667\n",
      "Epoch 15/100\n",
      "60/60 [==============================] - 0s 390us/step - loss: 1.3531 - acc: 0.3833\n",
      "Epoch 16/100\n",
      "60/60 [==============================] - 0s 377us/step - loss: 1.3355 - acc: 0.3833\n",
      "Epoch 17/100\n",
      "60/60 [==============================] - 0s 436us/step - loss: 1.3002 - acc: 0.4167\n",
      "Epoch 18/100\n",
      "60/60 [==============================] - 0s 328us/step - loss: 1.2779 - acc: 0.4833\n",
      "Epoch 19/100\n",
      "60/60 [==============================] - 0s 676us/step - loss: 1.2432 - acc: 0.4500\n",
      "Epoch 20/100\n",
      "60/60 [==============================] - 0s 444us/step - loss: 1.2160 - acc: 0.5500\n",
      "Epoch 21/100\n",
      "60/60 [==============================] - 0s 437us/step - loss: 1.1969 - acc: 0.4833\n",
      "Epoch 22/100\n",
      "60/60 [==============================] - 0s 424us/step - loss: 1.1691 - acc: 0.5000\n",
      "Epoch 23/100\n",
      "60/60 [==============================] - 0s 511us/step - loss: 1.1526 - acc: 0.5667\n",
      "Epoch 24/100\n",
      "60/60 [==============================] - 0s 545us/step - loss: 1.1253 - acc: 0.5500\n",
      "Epoch 25/100\n",
      "60/60 [==============================] - 0s 444us/step - loss: 1.0917 - acc: 0.6333\n",
      "Epoch 26/100\n",
      "60/60 [==============================] - 0s 491us/step - loss: 1.0724 - acc: 0.5833\n",
      "Epoch 27/100\n",
      "60/60 [==============================] - 0s 521us/step - loss: 1.0505 - acc: 0.6333\n",
      "Epoch 28/100\n",
      "60/60 [==============================] - 0s 395us/step - loss: 1.0287 - acc: 0.5500\n",
      "Epoch 29/100\n",
      "60/60 [==============================] - 0s 434us/step - loss: 1.0117 - acc: 0.5333\n",
      "Epoch 30/100\n",
      "60/60 [==============================] - 0s 517us/step - loss: 0.9896 - acc: 0.6000\n",
      "Epoch 31/100\n",
      "60/60 [==============================] - 0s 400us/step - loss: 0.9725 - acc: 0.6167\n",
      "Epoch 32/100\n",
      "60/60 [==============================] - 0s 532us/step - loss: 0.9571 - acc: 0.6500\n",
      "Epoch 33/100\n",
      "60/60 [==============================] - 0s 457us/step - loss: 0.9378 - acc: 0.6167\n",
      "Epoch 34/100\n",
      "60/60 [==============================] - 0s 484us/step - loss: 0.9317 - acc: 0.5833\n",
      "Epoch 35/100\n",
      "60/60 [==============================] - 0s 641us/step - loss: 0.9211 - acc: 0.6833\n",
      "Epoch 36/100\n",
      "60/60 [==============================] - 0s 445us/step - loss: 0.9107 - acc: 0.6167\n",
      "Epoch 37/100\n",
      "60/60 [==============================] - 0s 517us/step - loss: 0.8750 - acc: 0.6500\n",
      "Epoch 38/100\n",
      "60/60 [==============================] - 0s 445us/step - loss: 0.8845 - acc: 0.6500\n",
      "Epoch 39/100\n",
      "60/60 [==============================] - 0s 533us/step - loss: 0.8701 - acc: 0.7000\n",
      "Epoch 40/100\n",
      "60/60 [==============================] - 0s 587us/step - loss: 0.8489 - acc: 0.6167\n",
      "Epoch 41/100\n",
      "60/60 [==============================] - 0s 634us/step - loss: 0.8408 - acc: 0.6500\n",
      "Epoch 42/100\n",
      "60/60 [==============================] - 0s 453us/step - loss: 0.8091 - acc: 0.6833\n",
      "Epoch 43/100\n",
      "60/60 [==============================] - 0s 545us/step - loss: 0.8073 - acc: 0.6667\n",
      "Epoch 44/100\n",
      "60/60 [==============================] - 0s 541us/step - loss: 0.8072 - acc: 0.6833\n",
      "Epoch 45/100\n",
      "60/60 [==============================] - 0s 548us/step - loss: 0.7996 - acc: 0.7000\n",
      "Epoch 46/100\n",
      "60/60 [==============================] - 0s 475us/step - loss: 0.7862 - acc: 0.6833\n",
      "Epoch 47/100\n",
      "60/60 [==============================] - 0s 421us/step - loss: 0.7778 - acc: 0.7333\n",
      "Epoch 48/100\n",
      "60/60 [==============================] - 0s 384us/step - loss: 0.7669 - acc: 0.6833\n",
      "Epoch 49/100\n",
      "60/60 [==============================] - 0s 510us/step - loss: 0.7536 - acc: 0.7500\n",
      "Epoch 50/100\n",
      "60/60 [==============================] - 0s 578us/step - loss: 0.7485 - acc: 0.7333\n",
      "Epoch 51/100\n",
      "60/60 [==============================] - 0s 398us/step - loss: 0.7437 - acc: 0.7167\n",
      "Epoch 52/100\n",
      "60/60 [==============================] - 0s 457us/step - loss: 0.7419 - acc: 0.7000\n",
      "Epoch 53/100\n",
      "60/60 [==============================] - 0s 578us/step - loss: 0.7452 - acc: 0.7167\n",
      "Epoch 54/100\n",
      "60/60 [==============================] - 0s 348us/step - loss: 0.7056 - acc: 0.7167\n",
      "Epoch 55/100\n",
      "60/60 [==============================] - 0s 317us/step - loss: 0.7101 - acc: 0.7000\n",
      "Epoch 56/100\n",
      "60/60 [==============================] - 0s 503us/step - loss: 0.7280 - acc: 0.6667\n",
      "Epoch 57/100\n",
      "60/60 [==============================] - 0s 534us/step - loss: 0.6994 - acc: 0.8000\n",
      "Epoch 58/100\n",
      "60/60 [==============================] - 0s 329us/step - loss: 0.6982 - acc: 0.7000\n",
      "Epoch 59/100\n",
      "60/60 [==============================] - 0s 258us/step - loss: 0.6816 - acc: 0.7500\n",
      "Epoch 60/100\n",
      "60/60 [==============================] - 0s 391us/step - loss: 0.6942 - acc: 0.7167\n",
      "Epoch 61/100\n",
      "60/60 [==============================] - 0s 425us/step - loss: 0.6797 - acc: 0.7500\n",
      "Epoch 62/100\n",
      "60/60 [==============================] - 0s 494us/step - loss: 0.6854 - acc: 0.7000\n",
      "Epoch 63/100\n",
      "60/60 [==============================] - 0s 295us/step - loss: 0.6602 - acc: 0.7833\n",
      "Epoch 64/100\n",
      "60/60 [==============================] - 0s 608us/step - loss: 0.6587 - acc: 0.7667\n",
      "Epoch 65/100\n",
      "60/60 [==============================] - 0s 532us/step - loss: 0.6492 - acc: 0.7333\n",
      "Epoch 66/100\n",
      "60/60 [==============================] - 0s 669us/step - loss: 0.6392 - acc: 0.7000\n",
      "Epoch 67/100\n",
      "60/60 [==============================] - 0s 549us/step - loss: 0.6489 - acc: 0.8167\n",
      "Epoch 68/100\n",
      "60/60 [==============================] - 0s 555us/step - loss: 0.6586 - acc: 0.7500\n",
      "Epoch 69/100\n",
      "60/60 [==============================] - 0s 587us/step - loss: 0.6264 - acc: 0.7500\n",
      "Epoch 70/100\n",
      "60/60 [==============================] - 0s 616us/step - loss: 0.6332 - acc: 0.7833\n",
      "Epoch 71/100\n",
      "60/60 [==============================] - 0s 462us/step - loss: 0.6305 - acc: 0.7667\n",
      "Epoch 72/100\n",
      "60/60 [==============================] - 0s 472us/step - loss: 0.6315 - acc: 0.7833\n",
      "Epoch 73/100\n",
      "60/60 [==============================] - 0s 474us/step - loss: 0.6274 - acc: 0.8000\n",
      "Epoch 74/100\n",
      "60/60 [==============================] - 0s 379us/step - loss: 0.6139 - acc: 0.7667\n",
      "Epoch 75/100\n",
      "60/60 [==============================] - 0s 272us/step - loss: 0.6002 - acc: 0.8167\n",
      "Epoch 76/100\n",
      "60/60 [==============================] - 0s 451us/step - loss: 0.5962 - acc: 0.7833\n",
      "Epoch 77/100\n",
      "60/60 [==============================] - 0s 303us/step - loss: 0.5938 - acc: 0.7500\n",
      "Epoch 78/100\n",
      "60/60 [==============================] - 0s 302us/step - loss: 0.5898 - acc: 0.8333\n",
      "Epoch 79/100\n",
      "60/60 [==============================] - 0s 450us/step - loss: 0.5904 - acc: 0.8667\n",
      "Epoch 80/100\n",
      "60/60 [==============================] - 0s 431us/step - loss: 0.5833 - acc: 0.8500\n",
      "Epoch 81/100\n",
      "60/60 [==============================] - 0s 315us/step - loss: 0.5626 - acc: 0.8333\n",
      "Epoch 82/100\n",
      "60/60 [==============================] - 0s 376us/step - loss: 0.5805 - acc: 0.8167\n",
      "Epoch 83/100\n",
      "60/60 [==============================] - 0s 391us/step - loss: 0.5654 - acc: 0.8000\n",
      "Epoch 84/100\n",
      "60/60 [==============================] - 0s 324us/step - loss: 0.5687 - acc: 0.8500\n",
      "Epoch 85/100\n"
     ]
    },
    {
     "name": "stdout",
     "output_type": "stream",
     "text": [
      "60/60 [==============================] - 0s 278us/step - loss: 0.5406 - acc: 0.8000\n",
      "Epoch 86/100\n",
      "60/60 [==============================] - 0s 466us/step - loss: 0.5461 - acc: 0.8167\n",
      "Epoch 87/100\n",
      "60/60 [==============================] - 0s 270us/step - loss: 0.5445 - acc: 0.8333\n",
      "Epoch 88/100\n",
      "60/60 [==============================] - 0s 411us/step - loss: 0.5508 - acc: 0.7833\n",
      "Epoch 89/100\n",
      "60/60 [==============================] - 0s 405us/step - loss: 0.5407 - acc: 0.8333\n",
      "Epoch 90/100\n",
      "60/60 [==============================] - 0s 396us/step - loss: 0.5489 - acc: 0.8667\n",
      "Epoch 91/100\n",
      "60/60 [==============================] - 0s 314us/step - loss: 0.5428 - acc: 0.8167\n",
      "Epoch 92/100\n",
      "60/60 [==============================] - 0s 382us/step - loss: 0.5372 - acc: 0.8000\n",
      "Epoch 93/100\n",
      "60/60 [==============================] - 0s 341us/step - loss: 0.5367 - acc: 0.8333\n",
      "Epoch 94/100\n",
      "60/60 [==============================] - 0s 409us/step - loss: 0.5392 - acc: 0.8333\n",
      "Epoch 95/100\n",
      "60/60 [==============================] - 0s 338us/step - loss: 0.5402 - acc: 0.8333\n",
      "Epoch 96/100\n",
      "60/60 [==============================] - 0s 252us/step - loss: 0.5181 - acc: 0.8500\n",
      "Epoch 97/100\n",
      "60/60 [==============================] - 0s 438us/step - loss: 0.5110 - acc: 0.8333\n",
      "Epoch 98/100\n",
      "60/60 [==============================] - 0s 305us/step - loss: 0.5261 - acc: 0.8000\n",
      "Epoch 99/100\n",
      "60/60 [==============================] - 0s 264us/step - loss: 0.5292 - acc: 0.7833\n",
      "Epoch 100/100\n",
      "60/60 [==============================] - 0s 373us/step - loss: 0.5227 - acc: 0.8333\n"
     ]
    }
   ],
   "source": [
    "history = model.fit(X_train,y_tarin,epochs=100,batch_size = 4)"
   ]
  },
  {
   "cell_type": "code",
   "execution_count": 43,
   "metadata": {},
   "outputs": [
    {
     "data": {
      "text/plain": [
       "[<matplotlib.lines.Line2D at 0x7fb451004d68>]"
      ]
     },
     "execution_count": 43,
     "metadata": {},
     "output_type": "execute_result"
    },
    {
     "data": {
      "image/png": "[encoded data removed]",
      "text/plain": [
       "<Figure size 432x288 with 1 Axes>"
      ]
     },
     "metadata": {
      "needs_background": "light"
     },
     "output_type": "display_data"
    }
   ],
   "source": [
    "import matplotlib.pyplot as plt\n",
    "y_pred = model.predict(X_test)\n",
    "plt.plot(history.history['acc'])"
   ]
  },
  {
   "cell_type": "code",
   "execution_count": 44,
   "metadata": {},
   "outputs": [
    {
     "data": {
      "text/plain": [
       "array([[2.0002057e-03, 1.5238880e-01, 3.7729901e-01, 4.6829242e-01,\n",
       "        1.9644738e-05],\n",
       "       [7.2600949e-04, 5.8818271e-04, 3.3975479e-07, 6.1877814e-05,\n",
       "        9.9862361e-01],\n",
       "       [1.7173819e-03, 1.4984331e-01, 3.1533659e-01, 5.3308314e-01,\n",
       "        1.9582438e-05],\n",
       "       [1.8671941e-02, 4.2686954e-01, 3.1415829e-01, 2.3959625e-01,\n",
       "        7.0396974e-04],\n",
       "       [2.4570439e-02, 3.4549227e-01, 5.0665665e-01, 1.2281902e-01,\n",
       "        4.6168512e-04],\n",
       "       [1.9525647e-03, 1.8598000e-02, 1.3179956e-05, 7.1913130e-03,\n",
       "        9.7224492e-01],\n",
       "       [6.3578695e-01, 2.1338033e-02, 3.3232194e-01, 1.2902421e-04,\n",
       "        1.0424085e-02],\n",
       "       [1.1903766e-03, 1.1069995e-02, 9.8338228e-01, 4.3565948e-03,\n",
       "        8.1462832e-07],\n",
       "       [2.3452453e-01, 3.1678405e-01, 4.2431867e-01, 1.4303394e-02,\n",
       "        1.0069301e-02],\n",
       "       [2.7666358e-02, 2.0531449e-01, 7.2760749e-01, 3.9190490e-02,\n",
       "        2.2119135e-04],\n",
       "       [9.0487180e-03, 1.4312777e-02, 9.7619230e-01, 4.4201888e-04,\n",
       "        4.1350763e-06],\n",
       "       [1.4781696e-02, 1.8702836e-01, 7.3469073e-01, 6.3401908e-02,\n",
       "        9.7406373e-05],\n",
       "       [2.3975904e-01, 4.9627489e-01, 5.4679792e-02, 2.9591070e-02,\n",
       "        1.7969522e-01],\n",
       "       [3.7699816e-04, 5.8711313e-02, 2.7688733e-01, 6.6402167e-01,\n",
       "        2.6829855e-06],\n",
       "       [4.5076463e-02, 5.6561583e-01, 8.2636680e-03, 1.3457231e-01,\n",
       "        2.4647176e-01],\n",
       "       [2.7319893e-05, 1.9972077e-02, 1.0674600e-02, 9.6932483e-01,\n",
       "        1.1017930e-06],\n",
       "       [3.5035312e-02, 1.3384235e-03, 3.9689850e-05, 6.1095202e-06,\n",
       "        9.6358049e-01],\n",
       "       [1.1094334e-03, 2.4020812e-03, 1.5321308e-06, 4.1695902e-04,\n",
       "        9.9607003e-01],\n",
       "       [2.7330467e-03, 2.0394886e-01, 1.8480721e-04, 2.6169091e-01,\n",
       "        5.3144240e-01],\n",
       "       [4.1188827e-01, 3.4398642e-01, 1.4436185e-01, 1.1080249e-02,\n",
       "        8.8683195e-02]], dtype=float32)"
      ]
     },
     "execution_count": 44,
     "metadata": {},
     "output_type": "execute_result"
    }
   ],
   "source": [
    "y_pred"
   ]
  },
  {
   "cell_type": "code",
   "execution_count": 45,
   "metadata": {},
   "outputs": [],
   "source": [
    "y_pred = [item.argmax() for item in y_pred]"
   ]
  },
  {
   "cell_type": "code",
   "execution_count": 46,
   "metadata": {},
   "outputs": [
    {
     "data": {
      "text/plain": [
       "0.85"
      ]
     },
     "execution_count": 46,
     "metadata": {},
     "output_type": "execute_result"
    }
   ],
   "source": [
    "accuracy_score(y_test, y_pred)"
   ]
  },
  {
   "cell_type": "code",
   "execution_count": 47,
   "metadata": {},
   "outputs": [],
   "source": [
    "#X = df.iloc[:, 0:2]\n",
    "X_0=X[ :, 0]\n",
    "X_1=X[:,1]\n",
    "y_letransf = le.fit_transform(y.values)"
   ]
  },
  {
   "cell_type": "code",
   "execution_count": 48,
   "metadata": {},
   "outputs": [
    {
     "data": {
      "image/png": "[encoded data removed]",
      "text/plain": [
       "<Figure size 864x648 with 1 Axes>"
      ]
     },
     "metadata": {},
     "output_type": "display_data"
    }
   ],
   "source": [
    "import matplotlib.pyplot as plt\n",
    "from random import sample\n",
    "idx = sample(list(df.index), int(df.shape[0]))\n",
    "h = .02\n",
    "x_min, x_max  = X_train[:, 0].min() - .5, X_train[:, 0].max() + .5\n",
    "y_min, y_max = X_train[:, 1].min() - .5, X_train[:, 1].max() + .5\n",
    "xx, yy = np.meshgrid(np.arange(x_min, x_max, h), np.arange(y_min, y_max, h))\n",
    "Z = model.predict(np.c_[xx.ravel(), yy.ravel()])\n",
    "Z = np.array([item.argmax() for item in Z]).reshape(xx.shape)\n",
    "# #Put the result into a color plot\n",
    "#encoder = {'SrO': 1, 'SrCrO3': 2, 'Sr3Cr2O8': 3,'Sr2CrO4':4,'SrCrO4':5}\n",
    "#Z = np.array([encoder[z] for z in Z]).reshape(xx.shape)\n",
    "plt.figure(figsize=(12, 9))\n",
    "plt.contourf(xx, yy, Z, cmap=plt.cm.get_cmap('Dark2'), alpha=0.8)\n",
    "\n",
    "# Plot also the training points\n",
    "col_map = {'SrO': 'olive', 'SrCrO3': 'navy', 'Sr3Cr2O8': 'magenta','Sr2CrO4':\"blue\",'SrCrO4':\"yellow\"}\n",
    "#plt.scatter(X1[:, 0], X2[:, 1], c= [col_map[lb] for lb in df['reaction product']], edgecolors='k', cmap=plt.cm.Paired)\n",
    "plt.scatter(X_0, X_1, c=y_letransf, s=20, cmap=plt.cm.get_cmap('Dark2'), edgecolors='k')\n",
    "plt.ylabel('$log_{10}pCrO3_3$')\n",
    "plt.xlabel('$log_{10}pO_2$')\n",
    "plt.title(\"Decision Boundary for Neural Network\")\n",
    "\n",
    "plt.xlim(xx.min(), xx.max())\n",
    "plt.ylim(yy.min(), yy.max())\n",
    "plt.xticks(())\n",
    "plt.yticks(())\n",
    "#plt.savefig('classification_NN.png')\n",
    "plt.show()\n"
   ]
  },
  {
   "cell_type": "code",
   "execution_count": null,
   "metadata": {},
   "outputs": [],
   "source": [
    "\n"
   ]
  },
  {
   "cell_type": "code",
   "execution_count": null,
   "metadata": {},
   "outputs": [],
   "source": []
  },
  {
   "cell_type": "code",
   "execution_count": 22,
   "metadata": {},
   "outputs": [
    {
     "name": "stdout",
     "output_type": "stream",
     "text": [
      "[3 4 3 1 1 4 0 2 1 2 2 2 1 3 1 3 4 4 4 1]\n",
      "[3 4 3 1 1 4 0 2 1 2 2 2 1 3 1 3 4 4 4 1]\n"
     ]
    }
   ],
   "source": [
    "y_hat = model.predict(X_test)\n",
    "\n",
    "y_hat = np.array([item.argmax() for item in y_hat]).reshape(y_test.shape)\n",
    "print(y_test)\n",
    "print(y_hat)\n",
    "\n",
    "confusion_mat = confusion_matrix(y_test, y_hat)"
   ]
  },
  {
   "cell_type": "code",
   "execution_count": 23,
   "metadata": {},
   "outputs": [],
   "source": [
    "def print_confusion_matrix(confusion_matrix, class_names, figsize=(10, 7), fontsize=14):\n",
    "    \"\"\"Prints a confusion matrix, as returned by sklearn.metrics.confusion_matrix, as a heatmap.\n",
    "    Arguments\n",
    "    ---------\n",
    "    confusion_matrix: numpy.ndarray\n",
    "        The numpy.ndarray object returned from a call to sklearn.metrics.confusion_matrix.\n",
    "        Similarly constructed ndarrays can also be used.\n",
    "    class_names: list\n",
    "        An ordered list of class names, in the order they index the given confusion matrix.\n",
    "    figsize: tuple\n",
    "        A 2-long tuple, the first value determining the horizontal size of the ouputted figure,\n",
    "        the second determining the vertical size. Defaults to (10,7).\n",
    "    fontsize: int\n",
    "        Font size for axes labels. Defaults to 14.\n",
    "    Returns\n",
    "    -------\n",
    "    matplotlib.figure.Figure\n",
    "        The resulting confusion matrix figure\n",
    "    \"\"\"\n",
    "    df_cm = pd.DataFrame(\n",
    "        confusion_matrix, index=class_names, columns=class_names,\n",
    "    )\n",
    "    fig = plt.figure(figsize=figsize)\n",
    "    try:\n",
    "        heatmap = sns.heatmap(df_cm, annot=True, fmt=\"d\")\n",
    "    except ValueError:\n",
    "        raise ValueError(\"Confusion matrix values must be integers.\")\n",
    "    heatmap.yaxis.set_ticklabels(heatmap.yaxis.get_ticklabels(), rotation=0, ha='right', fontsize=fontsize)\n",
    "    heatmap.xaxis.set_ticklabels(heatmap.xaxis.get_ticklabels(), rotation=45, ha='right', fontsize=fontsize)\n",
    "    plt.ylabel('True label')\n",
    "    plt.xlabel('Predicted label')\n",
    "    return fig"
   ]
  },
  {
   "cell_type": "code",
   "execution_count": 24,
   "metadata": {},
   "outputs": [
    {
     "data": {
      "image/png": "[encoded data removed]",
      "text/plain": [
       "<Figure size 720x504 with 2 Axes>"
      ]
     },
     "metadata": {
      "needs_background": "light"
     },
     "output_type": "display_data"
    }
   ],
   "source": [
    "from sklearn.metrics import confusion_matrix\n",
    "import seaborn as sns\n",
    "print_confusion_matrix(confusion_mat, ['Sr2CrO4','Sr3Cr2O8', 'SrCrO3', 'SrCrO4', 'SrO'])\n",
    "plt.savefig(\"confusion_matrix_NN.png\")"
   ]
  },
  {
   "cell_type": "code",
   "execution_count": null,
   "metadata": {},
   "outputs": [],
   "source": []
  },
  {
   "cell_type": "code",
   "execution_count": null,
   "metadata": {},
   "outputs": [],
   "source": []
  },
  {
   "cell_type": "code",
   "execution_count": null,
   "metadata": {},
   "outputs": [],
   "source": []
  }
 ],
 "metadata": {
  "kernelspec": {
   "display_name": "Python 3",
   "language": "python",
   "name": "python3"
  },
  "language_info": {
   "codemirror_mode": {
    "name": "ipython",
    "version": 3
   },
   "file_extension": ".py",
   "mimetype": "text/x-python",
   "name": "python",
   "nbconvert_exporter": "python",
   "pygments_lexer": "ipython3",
   "version": "3.6.8"
  }
 },
 "nbformat": 4,
 "nbformat_minor": 2
}
