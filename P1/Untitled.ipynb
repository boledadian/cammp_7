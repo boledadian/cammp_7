{
 "cells": [
  {
   "cell_type": "code",
   "execution_count": 3,
   "metadata": {},
   "outputs": [],
   "source": [
    "import pandas as pd\n",
    "df = pd.read_excel('Cr-poisoning.xlsx')"
   ]
  },
  {
   "cell_type": "code",
   "execution_count": 9,
   "metadata": {},
   "outputs": [],
   "source": [
    "import numpy as np"
   ]
  },
  {
   "cell_type": "code",
   "execution_count": 18,
   "metadata": {},
   "outputs": [],
   "source": [
    "X1 = df['log pO2 /bar'].tolist()\n",
    "X2 = df['log CrO3 /bar'].tolist()\n",
    "X = np.c_[X1,X2]\n",
    "y = df['reaction product']"
   ]
  },
  {
   "cell_type": "code",
   "execution_count": 29,
   "metadata": {},
   "outputs": [],
   "source": [
    "from sklearn.preprocessing import StandardScaler\n",
    "scaler = StandardScaler()\n",
    "scaler.fit(X)\n",
    "X = scaler.transform(X)"
   ]
  },
  {
   "cell_type": "code",
   "execution_count": 110,
   "metadata": {},
   "outputs": [
    {
     "data": {
      "text/plain": [
       "1.0"
      ]
     },
     "execution_count": 110,
     "metadata": {},
     "output_type": "execute_result"
    }
   ],
   "source": [
    "from sklearn.svm import SVC\n",
    "from sklearn.metrics import accuracy_score\n",
    "from sklearn.model_selection import train_test_split\n",
    "X_train, X_test, y_train, y_test = train_test_split(X, y, test_size=0.25, random_state=42)\n",
    "clf = SVC(gamma=0.5, kernel='linear',C = 20)\n",
    "clf.fit(X_train, y_train) \n",
    "y_pred = clf.predict(X_test)\n",
    "accuracy_score(y_test, y_pred)"
   ]
  },
  {
   "cell_type": "code",
   "execution_count": 84,
   "metadata": {},
   "outputs": [
    {
     "data": {
      "text/plain": [
       "array([[1, 0, 0, 0, 0],\n",
       "       [0, 6, 0, 0, 0],\n",
       "       [0, 0, 4, 0, 0],\n",
       "       [0, 0, 0, 4, 0],\n",
       "       [0, 0, 0, 0, 5]])"
      ]
     },
     "execution_count": 84,
     "metadata": {},
     "output_type": "execute_result"
    }
   ],
   "source": [
    "from sklearn.metrics import confusion_matrix\n",
    "confusion_matrix(y_test, y_pred)"
   ]
  },
  {
   "cell_type": "code",
   "execution_count": null,
   "metadata": {},
   "outputs": [],
   "source": []
  },
  {
   "cell_type": "code",
   "execution_count": 85,
   "metadata": {},
   "outputs": [
    {
     "data": {
      "image/png": "[encoded data removed]",
      "text/plain": [
       "<Figure size 864x648 with 1 Axes>"
      ]
     },
     "metadata": {},
     "output_type": "display_data"
    }
   ],
   "source": [
    "import matplotlib.pyplot as plt\n",
    "from random import sample\n",
    "idx = sample(list(df.index), int(df.shape[0]))\n",
    "h = .02\n",
    "x_min, x_max  = X_train[:, 0].min() - .5, X_train[:, 0].max() + .5\n",
    "y_min, y_max = X_train[:, 1].min() - .5, X_train[:, 1].max() + .5\n",
    "xx, yy = np.meshgrid(np.arange(x_min, x_max, h), np.arange(y_min, y_max, h))\n",
    "Z = clf.predict(np.c_[xx.ravel(), yy.ravel()])\n",
    "\n",
    "# Put the result into a color plot\n",
    "encoder = {'SrO': 1, 'SrCrO3': 2, 'Sr3Cr2O8': 3,'Sr2CrO4':4,'SrCrO4':5}\n",
    "Z = np.array([encoder[z] for z in Z]).reshape(xx.shape)\n",
    "plt.figure(figsize=(12, 9))\n",
    "plt.pcolormesh(xx, yy, Z, cmap=plt.cm.Paired)\n",
    "\n",
    "# Plot also the training points\n",
    "col_map = {'SrO': 'olive', 'SrCrO3': 'navy', 'Sr3Cr2O8': 'magenta','Sr2CrO4':\"blue\",'SrCrO4':\"yellow\"}\n",
    "plt.xlabel('comp 1')\n",
    "plt.ylabel('comp 2')\n",
    "\n",
    "plt.xlim(xx.min(), xx.max())\n",
    "plt.ylim(yy.min(), yy.max())\n",
    "plt.xticks(())\n",
    "plt.yticks(())\n",
    "plt.show()"
   ]
  },
  {
   "cell_type": "code",
   "execution_count": 62,
   "metadata": {},
   "outputs": [
    {
     "data": {
      "text/plain": [
       "60"
      ]
     },
     "execution_count": 62,
     "metadata": {},
     "output_type": "execute_result"
    }
   ],
   "source": [
    "len(X_train[:, 0])"
   ]
  },
  {
   "cell_type": "code",
   "execution_count": 216,
   "metadata": {},
   "outputs": [],
   "source": [
    "from keras.layers import Input, Dense, Reshape, Flatten, Dropout\n",
    "from keras.models import Sequential, Model\n",
    "from keras.optimizers import Adam\n",
    "from keras import optimizers\n",
    "from sklearn.preprocessing import LabelEncoder\n",
    "from keras.utils import np_utils"
   ]
  },
  {
   "cell_type": "code",
   "execution_count": 217,
   "metadata": {},
   "outputs": [],
   "source": [
    "le = LabelEncoder()\n",
    "le.fit(y_train)\n",
    "y_tarin = le.transform(y_train)"
   ]
  },
  {
   "cell_type": "code",
   "execution_count": 308,
   "metadata": {},
   "outputs": [],
   "source": [
    "y_test = le.transform(y_test)"
   ]
  },
  {
   "cell_type": "code",
   "execution_count": 218,
   "metadata": {},
   "outputs": [],
   "source": [
    "y_tarin = np_utils.to_categorical(y_tarin)"
   ]
  },
  {
   "cell_type": "code",
   "execution_count": 297,
   "metadata": {},
   "outputs": [],
   "source": [
    "model = Sequential()\n",
    "model.add(Dense(5, input_shape = [2,], activation = 'tanh'))\n",
    "model.add(Dense(5, activation = 'softmax'))"
   ]
  },
  {
   "cell_type": "code",
   "execution_count": 298,
   "metadata": {},
   "outputs": [],
   "source": [
    "sgd = optimizers.SGD(lr=0.1, decay=1e-6, momentum=0.9, nesterov=True)\n",
    "model.compile(loss='categorical_crossentropy', optimizer=sgd, metrics = ['accuracy'])"
   ]
  },
  {
   "cell_type": "code",
   "execution_count": 299,
   "metadata": {},
   "outputs": [
    {
     "name": "stdout",
     "output_type": "stream",
     "text": [
      "Epoch 1/100\n",
      "60/60 [==============================] - 2s 27ms/step - loss: 1.3047 - acc: 0.3000\n",
      "Epoch 2/100\n",
      "60/60 [==============================] - 0s 550us/step - loss: 0.8319 - acc: 0.6500\n",
      "Epoch 3/100\n",
      "60/60 [==============================] - 0s 512us/step - loss: 0.6514 - acc: 0.7000\n",
      "Epoch 4/100\n",
      "60/60 [==============================] - 0s 518us/step - loss: 0.6923 - acc: 0.6333\n",
      "Epoch 5/100\n",
      "60/60 [==============================] - 0s 518us/step - loss: 0.6154 - acc: 0.7833\n",
      "Epoch 6/100\n",
      "60/60 [==============================] - 0s 449us/step - loss: 0.5740 - acc: 0.7500\n",
      "Epoch 7/100\n",
      "60/60 [==============================] - 0s 451us/step - loss: 0.4765 - acc: 0.7833\n",
      "Epoch 8/100\n",
      "60/60 [==============================] - 0s 459us/step - loss: 0.5609 - acc: 0.7167\n",
      "Epoch 9/100\n",
      "60/60 [==============================] - 0s 448us/step - loss: 0.5596 - acc: 0.7333\n",
      "Epoch 10/100\n",
      "60/60 [==============================] - 0s 448us/step - loss: 0.4274 - acc: 0.7667\n",
      "Epoch 11/100\n",
      "60/60 [==============================] - 0s 459us/step - loss: 0.3969 - acc: 0.8167\n",
      "Epoch 12/100\n",
      "60/60 [==============================] - 0s 484us/step - loss: 0.3863 - acc: 0.8500\n",
      "Epoch 13/100\n",
      "60/60 [==============================] - 0s 465us/step - loss: 0.8225 - acc: 0.6833\n",
      "Epoch 14/100\n",
      "60/60 [==============================] - 0s 451us/step - loss: 0.4966 - acc: 0.8333\n",
      "Epoch 15/100\n",
      "60/60 [==============================] - 0s 449us/step - loss: 0.3803 - acc: 0.8167\n",
      "Epoch 16/100\n",
      "60/60 [==============================] - 0s 461us/step - loss: 0.3933 - acc: 0.9000\n",
      "Epoch 17/100\n",
      "60/60 [==============================] - 0s 463us/step - loss: 0.3221 - acc: 0.8667\n",
      "Epoch 18/100\n",
      "60/60 [==============================] - 0s 454us/step - loss: 0.3448 - acc: 0.8833\n",
      "Epoch 19/100\n",
      "60/60 [==============================] - 0s 476us/step - loss: 0.4011 - acc: 0.8333\n",
      "Epoch 20/100\n",
      "60/60 [==============================] - 0s 451us/step - loss: 0.3455 - acc: 0.8333\n",
      "Epoch 21/100\n",
      "60/60 [==============================] - 0s 456us/step - loss: 0.2362 - acc: 0.9167\n",
      "Epoch 22/100\n",
      "60/60 [==============================] - 0s 463us/step - loss: 0.2580 - acc: 0.8667\n",
      "Epoch 23/100\n",
      "60/60 [==============================] - 0s 475us/step - loss: 0.3087 - acc: 0.8667\n",
      "Epoch 24/100\n",
      "60/60 [==============================] - 0s 451us/step - loss: 0.2407 - acc: 0.8667\n",
      "Epoch 25/100\n",
      "60/60 [==============================] - 0s 461us/step - loss: 0.2844 - acc: 0.8500\n",
      "Epoch 26/100\n",
      "60/60 [==============================] - 0s 457us/step - loss: 0.3907 - acc: 0.9000\n",
      "Epoch 27/100\n",
      "60/60 [==============================] - 0s 481us/step - loss: 0.2616 - acc: 0.8667\n",
      "Epoch 28/100\n",
      "60/60 [==============================] - 0s 463us/step - loss: 0.1881 - acc: 0.9500\n",
      "Epoch 29/100\n",
      "60/60 [==============================] - 0s 480us/step - loss: 0.1723 - acc: 0.9333\n",
      "Epoch 30/100\n",
      "60/60 [==============================] - 0s 488us/step - loss: 0.2210 - acc: 0.9000\n",
      "Epoch 31/100\n",
      "60/60 [==============================] - 0s 483us/step - loss: 0.1325 - acc: 0.9667\n",
      "Epoch 32/100\n",
      "60/60 [==============================] - 0s 478us/step - loss: 0.2026 - acc: 0.8833\n",
      "Epoch 33/100\n",
      "60/60 [==============================] - 0s 493us/step - loss: 0.1710 - acc: 0.9333\n",
      "Epoch 34/100\n",
      "60/60 [==============================] - 0s 499us/step - loss: 0.1480 - acc: 0.9500\n",
      "Epoch 35/100\n",
      "60/60 [==============================] - 0s 489us/step - loss: 0.2367 - acc: 0.9167\n",
      "Epoch 36/100\n",
      "60/60 [==============================] - 0s 498us/step - loss: 0.1385 - acc: 0.9667\n",
      "Epoch 37/100\n",
      "60/60 [==============================] - 0s 502us/step - loss: 0.1117 - acc: 0.9833\n",
      "Epoch 38/100\n",
      "60/60 [==============================] - 0s 479us/step - loss: 0.1032 - acc: 0.9667\n",
      "Epoch 39/100\n",
      "60/60 [==============================] - 0s 510us/step - loss: 0.2123 - acc: 0.9000\n",
      "Epoch 40/100\n",
      "60/60 [==============================] - 0s 482us/step - loss: 0.2952 - acc: 0.9167\n",
      "Epoch 41/100\n",
      "60/60 [==============================] - 0s 453us/step - loss: 0.2175 - acc: 0.9333\n",
      "Epoch 42/100\n",
      "60/60 [==============================] - 0s 461us/step - loss: 0.4707 - acc: 0.8500\n",
      "Epoch 43/100\n",
      "60/60 [==============================] - 0s 467us/step - loss: 0.3237 - acc: 0.9000\n",
      "Epoch 44/100\n",
      "60/60 [==============================] - 0s 458us/step - loss: 0.2816 - acc: 0.9167\n",
      "Epoch 45/100\n",
      "60/60 [==============================] - 0s 460us/step - loss: 0.1923 - acc: 0.9167\n",
      "Epoch 46/100\n",
      "60/60 [==============================] - 0s 462us/step - loss: 0.1358 - acc: 0.9333\n",
      "Epoch 47/100\n",
      "60/60 [==============================] - 0s 459us/step - loss: 0.1617 - acc: 0.9333\n",
      "Epoch 48/100\n",
      "60/60 [==============================] - 0s 454us/step - loss: 0.1323 - acc: 0.9333\n",
      "Epoch 49/100\n",
      "60/60 [==============================] - 0s 469us/step - loss: 0.1943 - acc: 0.9500\n",
      "Epoch 50/100\n",
      "60/60 [==============================] - 0s 467us/step - loss: 0.1005 - acc: 0.9667\n",
      "Epoch 51/100\n",
      "60/60 [==============================] - 0s 537us/step - loss: 0.1097 - acc: 0.9667\n",
      "Epoch 52/100\n",
      "60/60 [==============================] - 0s 571us/step - loss: 0.0807 - acc: 0.9667\n",
      "Epoch 53/100\n",
      "60/60 [==============================] - 0s 560us/step - loss: 0.1255 - acc: 0.9500\n",
      "Epoch 54/100\n",
      "60/60 [==============================] - 0s 527us/step - loss: 0.2390 - acc: 0.9000\n",
      "Epoch 55/100\n",
      "60/60 [==============================] - 0s 489us/step - loss: 0.2458 - acc: 0.9000\n",
      "Epoch 56/100\n",
      "60/60 [==============================] - 0s 511us/step - loss: 0.1093 - acc: 0.9667\n",
      "Epoch 57/100\n",
      "60/60 [==============================] - 0s 496us/step - loss: 0.1146 - acc: 0.9333\n",
      "Epoch 58/100\n",
      "60/60 [==============================] - 0s 524us/step - loss: 0.2727 - acc: 0.9000\n",
      "Epoch 59/100\n",
      "60/60 [==============================] - 0s 509us/step - loss: 0.0874 - acc: 0.9833\n",
      "Epoch 60/100\n",
      "60/60 [==============================] - 0s 497us/step - loss: 0.0708 - acc: 0.9833\n",
      "Epoch 61/100\n",
      "60/60 [==============================] - 0s 520us/step - loss: 0.0797 - acc: 0.9667\n",
      "Epoch 62/100\n",
      "60/60 [==============================] - 0s 506us/step - loss: 0.0728 - acc: 0.9667\n",
      "Epoch 63/100\n",
      "60/60 [==============================] - 0s 517us/step - loss: 0.0928 - acc: 0.9667\n",
      "Epoch 64/100\n",
      "60/60 [==============================] - 0s 513us/step - loss: 0.1151 - acc: 0.9500\n",
      "Epoch 65/100\n",
      "60/60 [==============================] - 0s 521us/step - loss: 0.2601 - acc: 0.9333\n",
      "Epoch 66/100\n",
      "60/60 [==============================] - 0s 505us/step - loss: 0.1024 - acc: 0.9333\n",
      "Epoch 67/100\n",
      "60/60 [==============================] - 0s 496us/step - loss: 0.0944 - acc: 0.9500\n",
      "Epoch 68/100\n",
      "60/60 [==============================] - 0s 505us/step - loss: 0.1712 - acc: 0.9167\n",
      "Epoch 69/100\n",
      "60/60 [==============================] - 0s 502us/step - loss: 0.1084 - acc: 0.9500\n",
      "Epoch 70/100\n",
      "60/60 [==============================] - 0s 537us/step - loss: 0.0786 - acc: 0.9833\n",
      "Epoch 71/100\n",
      "60/60 [==============================] - 0s 501us/step - loss: 0.1218 - acc: 0.9667\n",
      "Epoch 72/100\n",
      "60/60 [==============================] - 0s 515us/step - loss: 0.1312 - acc: 0.9500\n",
      "Epoch 73/100\n",
      "60/60 [==============================] - 0s 498us/step - loss: 0.1901 - acc: 0.9500\n",
      "Epoch 74/100\n",
      "60/60 [==============================] - 0s 509us/step - loss: 0.3017 - acc: 0.9167\n",
      "Epoch 75/100\n",
      "60/60 [==============================] - 0s 507us/step - loss: 0.3160 - acc: 0.8167\n",
      "Epoch 76/100\n",
      "60/60 [==============================] - 0s 487us/step - loss: 0.1457 - acc: 0.9500\n",
      "Epoch 77/100\n",
      "60/60 [==============================] - 0s 505us/step - loss: 0.1289 - acc: 0.9500\n",
      "Epoch 78/100\n",
      "60/60 [==============================] - 0s 490us/step - loss: 0.1158 - acc: 0.9833\n",
      "Epoch 79/100\n",
      "60/60 [==============================] - 0s 504us/step - loss: 0.1869 - acc: 0.9000\n",
      "Epoch 80/100\n",
      "60/60 [==============================] - 0s 522us/step - loss: 0.0740 - acc: 0.9667\n",
      "Epoch 81/100\n",
      "60/60 [==============================] - 0s 499us/step - loss: 0.0859 - acc: 0.9667\n",
      "Epoch 82/100\n",
      "60/60 [==============================] - 0s 493us/step - loss: 0.0935 - acc: 0.9500\n",
      "Epoch 83/100\n",
      "60/60 [==============================] - 0s 488us/step - loss: 0.1583 - acc: 0.9500\n",
      "Epoch 84/100\n",
      "60/60 [==============================] - 0s 484us/step - loss: 0.0659 - acc: 0.9833\n",
      "Epoch 85/100\n"
     ]
    },
    {
     "name": "stdout",
     "output_type": "stream",
     "text": [
      "60/60 [==============================] - 0s 507us/step - loss: 0.0994 - acc: 0.9667\n",
      "Epoch 86/100\n",
      "60/60 [==============================] - 0s 521us/step - loss: 0.1133 - acc: 0.9333\n",
      "Epoch 87/100\n",
      "60/60 [==============================] - 0s 522us/step - loss: 0.0533 - acc: 0.9833\n",
      "Epoch 88/100\n",
      "60/60 [==============================] - 0s 505us/step - loss: 0.0458 - acc: 0.9833\n",
      "Epoch 89/100\n",
      "60/60 [==============================] - 0s 536us/step - loss: 0.0526 - acc: 0.9833\n",
      "Epoch 90/100\n",
      "60/60 [==============================] - 0s 528us/step - loss: 0.0583 - acc: 0.9667\n",
      "Epoch 91/100\n",
      "60/60 [==============================] - 0s 515us/step - loss: 0.0606 - acc: 0.9833\n",
      "Epoch 92/100\n",
      "60/60 [==============================] - 0s 529us/step - loss: 0.0570 - acc: 0.9833\n",
      "Epoch 93/100\n",
      "60/60 [==============================] - 0s 510us/step - loss: 0.0620 - acc: 0.9667\n",
      "Epoch 94/100\n",
      "60/60 [==============================] - 0s 501us/step - loss: 0.1372 - acc: 0.9500\n",
      "Epoch 95/100\n",
      "60/60 [==============================] - 0s 460us/step - loss: 0.0605 - acc: 0.9833\n",
      "Epoch 96/100\n",
      "60/60 [==============================] - 0s 457us/step - loss: 0.0827 - acc: 0.9500\n",
      "Epoch 97/100\n",
      "60/60 [==============================] - 0s 444us/step - loss: 0.2065 - acc: 0.9333\n",
      "Epoch 98/100\n",
      "60/60 [==============================] - 0s 430us/step - loss: 0.1555 - acc: 0.9500\n",
      "Epoch 99/100\n",
      "60/60 [==============================] - 0s 421us/step - loss: 0.0635 - acc: 0.9833\n",
      "Epoch 100/100\n",
      "60/60 [==============================] - 0s 417us/step - loss: 0.0407 - acc: 1.0000\n"
     ]
    }
   ],
   "source": [
    "history = model.fit(X_train,y_tarin,epochs=100,batch_size = 4)"
   ]
  },
  {
   "cell_type": "code",
   "execution_count": 300,
   "metadata": {},
   "outputs": [
    {
     "data": {
      "text/plain": [
       "[<matplotlib.lines.Line2D at 0x1a337228d0>]"
      ]
     },
     "execution_count": 300,
     "metadata": {},
     "output_type": "execute_result"
    },
    {
     "data": {
      "image/png": "[encoded data removed]",
      "text/plain": [
       "<Figure size 432x288 with 1 Axes>"
      ]
     },
     "metadata": {
      "needs_background": "light"
     },
     "output_type": "display_data"
    }
   ],
   "source": [
    "import matplotlib.pyplot as plt\n",
    "y_pred = model.predict(X_test)\n",
    "plt.plot(history.history['acc'])"
   ]
  },
  {
   "cell_type": "code",
   "execution_count": 303,
   "metadata": {},
   "outputs": [
    {
     "data": {
      "text/plain": [
       "array([[3.6109951e-09, 5.4365546e-06, 4.9253581e-03, 9.9506927e-01,\n",
       "        8.3528202e-12],\n",
       "       [7.9932470e-06, 7.1891292e-05, 6.0334485e-13, 2.5659943e-09,\n",
       "        9.9992013e-01],\n",
       "       [1.4838842e-09, 4.6899436e-06, 1.2485043e-03, 9.9874675e-01,\n",
       "        6.4061621e-12],\n",
       "       [2.4257447e-06, 9.9603003e-01, 1.4386983e-06, 3.9638798e-03,\n",
       "        2.2963579e-06],\n",
       "       [1.2033124e-04, 9.9865013e-01, 2.8191693e-04, 9.4409316e-04,\n",
       "        3.5762587e-06],\n",
       "       [8.1037369e-06, 7.2737472e-05, 6.2408119e-13, 2.7282923e-09,\n",
       "        9.9991918e-01],\n",
       "       [8.5882390e-01, 6.1620322e-06, 1.4114083e-01, 1.3164248e-07,\n",
       "        2.8926388e-05],\n",
       "       [4.6109844e-07, 3.6833703e-07, 9.9898642e-01, 1.0127594e-03,\n",
       "        9.9761312e-13],\n",
       "       [6.3313502e-03, 9.8992097e-01, 3.6935264e-03, 5.0118593e-05,\n",
       "        4.0500449e-06],\n",
       "       [9.1099541e-04, 1.5622543e-02, 9.8344696e-01, 1.9170002e-05,\n",
       "        1.8878396e-07],\n",
       "       [3.7994905e-05, 1.7470840e-04, 9.9978656e-01, 7.0708768e-07,\n",
       "        3.5632435e-09],\n",
       "       [1.4701668e-04, 1.7057917e-03, 9.9814200e-01, 5.2548417e-06,\n",
       "        2.7092746e-08],\n",
       "       [1.7722907e-04, 9.9487358e-01, 3.1232692e-06, 4.8495764e-03,\n",
       "        9.6503623e-05],\n",
       "       [1.7682632e-07, 1.1127511e-05, 4.4872886e-01, 5.5125993e-01,\n",
       "        2.1971118e-11],\n",
       "       [1.0277225e-05, 9.9767107e-01, 3.3933168e-07, 2.2368517e-03,\n",
       "        8.1511593e-05],\n",
       "       [1.3772559e-09, 6.8949281e-05, 9.9269255e-07, 9.9993002e-01,\n",
       "        2.9608902e-11],\n",
       "       [1.2374077e-02, 4.5753055e-05, 9.1365959e-10, 2.1854791e-11,\n",
       "        9.8758018e-01],\n",
       "       [7.9942765e-06, 7.1896917e-05, 6.0351984e-13, 2.5673796e-09,\n",
       "        9.9992013e-01],\n",
       "       [9.9096629e-05, 9.5619941e-03, 3.7867585e-09, 5.0886339e-03,\n",
       "        9.8525029e-01],\n",
       "       [8.5398220e-02, 9.1229838e-01, 2.1118824e-03, 1.0508032e-04,\n",
       "        8.6471999e-05]], dtype=float32)"
      ]
     },
     "execution_count": 303,
     "metadata": {},
     "output_type": "execute_result"
    }
   ],
   "source": [
    "y_pred"
   ]
  },
  {
   "cell_type": "code",
   "execution_count": 306,
   "metadata": {},
   "outputs": [],
   "source": [
    "y_pred = [item.argmax() for item in y_pred]"
   ]
  },
  {
   "cell_type": "code",
   "execution_count": 309,
   "metadata": {},
   "outputs": [
    {
     "data": {
      "text/plain": [
       "1.0"
      ]
     },
     "execution_count": 309,
     "metadata": {},
     "output_type": "execute_result"
    }
   ],
   "source": [
    "accuracy_score(y_test, y_pred)"
   ]
  },
  {
   "cell_type": "code",
   "execution_count": 339,
   "metadata": {},
   "outputs": [
    {
     "data": {
      "image/png": "[encoded data removed]",
      "text/plain": [
       "<Figure size 864x648 with 1 Axes>"
      ]
     },
     "metadata": {},
     "output_type": "display_data"
    }
   ],
   "source": [
    "import matplotlib.pyplot as plt\n",
    "from random import sample\n",
    "idx = sample(list(df.index), int(df.shape[0]))\n",
    "h = .02\n",
    "x_min, x_max  = X_train[:, 0].min() - .5, X_train[:, 0].max() + .5\n",
    "y_min, y_max = X_train[:, 1].min() - .5, X_train[:, 1].max() + .5\n",
    "xx, yy = np.meshgrid(np.arange(x_min, x_max, h), np.arange(y_min, y_max, h))\n",
    "Z = model.predict(np.c_[xx.ravel(), yy.ravel()])\n",
    "Z = np.array([item.argmax() for item in Z]).reshape(xx.shape)\n",
    "# #Put the result into a color plot\n",
    "#encoder = {'SrO': 1, 'SrCrO3': 2, 'Sr3Cr2O8': 3,'Sr2CrO4':4,'SrCrO4':5}\n",
    "#Z = np.array([encoder[z] for z in Z]).reshape(xx.shape)\n",
    "plt.figure(figsize=(12, 9))\n",
    "plt.pcolormesh(xx, yy, Z, cmap=plt.cm.Paired)\n",
    "\n",
    "# Plot also the training points\n",
    "col_map = {'SrO': 'olive', 'SrCrO3': 'navy', 'Sr3Cr2O8': 'magenta','Sr2CrO4':\"blue\",'SrCrO4':\"yellow\"}\n",
    "#plt.scatter(X[:, 0], X[:, 1], c= [col_map[lb] for lb in df[\"reaction product\"].ix[idx]], edgecolors='k', cmap=plt.cm.Paired)\n",
    "plt.xlabel('comp 1')\n",
    "plt.ylabel('comp 2')\n",
    "\n",
    "plt.xlim(xx.min(), xx.max())\n",
    "plt.ylim(yy.min(), yy.max())\n",
    "plt.xticks(())\n",
    "plt.yticks(())\n",
    "plt.show()"
   ]
  },
  {
   "cell_type": "code",
   "execution_count": null,
   "metadata": {},
   "outputs": [],
   "source": []
  },
  {
   "cell_type": "code",
   "execution_count": null,
   "metadata": {},
   "outputs": [],
   "source": []
  },
  {
   "cell_type": "code",
   "execution_count": null,
   "metadata": {},
   "outputs": [],
   "source": []
  },
  {
   "cell_type": "code",
   "execution_count": null,
   "metadata": {},
   "outputs": [],
   "source": []
  },
  {
   "cell_type": "code",
   "execution_count": null,
   "metadata": {},
   "outputs": [],
   "source": []
  }
 ],
 "metadata": {
  "kernelspec": {
   "display_name": "Python 3",
   "language": "python",
   "name": "python3"
  },
  "language_info": {
   "codemirror_mode": {
    "name": "ipython",
    "version": 3
   },
   "file_extension": ".py",
   "mimetype": "text/x-python",
   "name": "python",
   "nbconvert_exporter": "python",
   "pygments_lexer": "ipython3",
   "version": "3.6.6"
  }
 },
 "nbformat": 4,
 "nbformat_minor": 2
}
